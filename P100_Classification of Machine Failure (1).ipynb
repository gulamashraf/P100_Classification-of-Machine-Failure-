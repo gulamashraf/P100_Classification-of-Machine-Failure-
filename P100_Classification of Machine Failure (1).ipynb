{
 "cells": [
  {
   "cell_type": "markdown",
   "id": "cc83f1f9",
   "metadata": {},
   "source": [
    "## P100_Classification of Machine Failure:\n",
    "\n",
    "### Predict When The Machine is More Likely to Fail."
   ]
  },
  {
   "cell_type": "code",
   "execution_count": 2,
   "id": "08e25508",
   "metadata": {},
   "outputs": [],
   "source": [
    "#importing libraries\n",
    "import pandas as pd \n",
    "import numpy as np \n",
    "import matplotlib.pyplot as plt\n",
    "import seaborn as sns\n",
    "import warnings\n",
    "warnings.filterwarnings(\"ignore\")  # to ignore the warnings"
   ]
  },
  {
   "cell_type": "code",
   "execution_count": 3,
   "id": "3c866db4",
   "metadata": {},
   "outputs": [],
   "source": [
    "#loading dataset\n",
    "df=pd.read_excel(\"Maintenance.xlsx\")"
   ]
  },
  {
   "cell_type": "code",
   "execution_count": 4,
   "id": "0f1155aa",
   "metadata": {},
   "outputs": [],
   "source": [
    "# To see the every columns and rows\n",
    "pd.set_option('display.max_columns', None)\n",
    "pd.set_option('display.max_rows', None)"
   ]
  },
  {
   "cell_type": "code",
   "execution_count": 5,
   "id": "7b3d3ea8",
   "metadata": {},
   "outputs": [
    {
     "data": {
      "text/html": [
       "<div>\n",
       "<style scoped>\n",
       "    .dataframe tbody tr th:only-of-type {\n",
       "        vertical-align: middle;\n",
       "    }\n",
       "\n",
       "    .dataframe tbody tr th {\n",
       "        vertical-align: top;\n",
       "    }\n",
       "\n",
       "    .dataframe thead th {\n",
       "        text-align: right;\n",
       "    }\n",
       "</style>\n",
       "<table border=\"1\" class=\"dataframe\">\n",
       "  <thead>\n",
       "    <tr style=\"text-align: right;\">\n",
       "      <th></th>\n",
       "      <th>UDI</th>\n",
       "      <th>Product ID</th>\n",
       "      <th>Type</th>\n",
       "      <th>Air temperature [K]</th>\n",
       "      <th>Process temperature [K]</th>\n",
       "      <th>Rotational speed [rpm]</th>\n",
       "      <th>Torque [Nm]</th>\n",
       "      <th>Tool wear [min]</th>\n",
       "      <th>Machine failure</th>\n",
       "      <th>TWF</th>\n",
       "      <th>HDF</th>\n",
       "      <th>PWF</th>\n",
       "      <th>OSF</th>\n",
       "      <th>RNF</th>\n",
       "    </tr>\n",
       "  </thead>\n",
       "  <tbody>\n",
       "    <tr>\n",
       "      <th>0</th>\n",
       "      <td>1.0</td>\n",
       "      <td>M14860</td>\n",
       "      <td>M</td>\n",
       "      <td>298.1</td>\n",
       "      <td>308.6</td>\n",
       "      <td>1551.0</td>\n",
       "      <td>42.8</td>\n",
       "      <td>0.0</td>\n",
       "      <td>0.0</td>\n",
       "      <td>0.0</td>\n",
       "      <td>0.0</td>\n",
       "      <td>0.0</td>\n",
       "      <td>0.0</td>\n",
       "      <td>0.0</td>\n",
       "    </tr>\n",
       "    <tr>\n",
       "      <th>1</th>\n",
       "      <td>2.0</td>\n",
       "      <td>L47181</td>\n",
       "      <td>L</td>\n",
       "      <td>298.2</td>\n",
       "      <td>308.7</td>\n",
       "      <td>1408.0</td>\n",
       "      <td>46.3</td>\n",
       "      <td>3.0</td>\n",
       "      <td>0.0</td>\n",
       "      <td>0.0</td>\n",
       "      <td>0.0</td>\n",
       "      <td>0.0</td>\n",
       "      <td>0.0</td>\n",
       "      <td>0.0</td>\n",
       "    </tr>\n",
       "    <tr>\n",
       "      <th>2</th>\n",
       "      <td>3.0</td>\n",
       "      <td>L47182</td>\n",
       "      <td>L</td>\n",
       "      <td>298.1</td>\n",
       "      <td>308.5</td>\n",
       "      <td>1498.0</td>\n",
       "      <td>49.4</td>\n",
       "      <td>5.0</td>\n",
       "      <td>0.0</td>\n",
       "      <td>0.0</td>\n",
       "      <td>0.0</td>\n",
       "      <td>0.0</td>\n",
       "      <td>0.0</td>\n",
       "      <td>0.0</td>\n",
       "    </tr>\n",
       "    <tr>\n",
       "      <th>3</th>\n",
       "      <td>4.0</td>\n",
       "      <td>L47183</td>\n",
       "      <td>L</td>\n",
       "      <td>298.2</td>\n",
       "      <td>308.6</td>\n",
       "      <td>1433.0</td>\n",
       "      <td>39.5</td>\n",
       "      <td>7.0</td>\n",
       "      <td>0.0</td>\n",
       "      <td>0.0</td>\n",
       "      <td>0.0</td>\n",
       "      <td>0.0</td>\n",
       "      <td>0.0</td>\n",
       "      <td>0.0</td>\n",
       "    </tr>\n",
       "    <tr>\n",
       "      <th>4</th>\n",
       "      <td>5.0</td>\n",
       "      <td>L47184</td>\n",
       "      <td>L</td>\n",
       "      <td>298.2</td>\n",
       "      <td>308.7</td>\n",
       "      <td>1408.0</td>\n",
       "      <td>40.0</td>\n",
       "      <td>9.0</td>\n",
       "      <td>0.0</td>\n",
       "      <td>0.0</td>\n",
       "      <td>0.0</td>\n",
       "      <td>0.0</td>\n",
       "      <td>0.0</td>\n",
       "      <td>0.0</td>\n",
       "    </tr>\n",
       "  </tbody>\n",
       "</table>\n",
       "</div>"
      ],
      "text/plain": [
       "   UDI Product ID Type  Air temperature [K]  Process temperature [K]  \\\n",
       "0  1.0     M14860    M                298.1                    308.6   \n",
       "1  2.0     L47181    L                298.2                    308.7   \n",
       "2  3.0     L47182    L                298.1                    308.5   \n",
       "3  4.0     L47183    L                298.2                    308.6   \n",
       "4  5.0     L47184    L                298.2                    308.7   \n",
       "\n",
       "   Rotational speed [rpm]  Torque [Nm]  Tool wear [min]  Machine failure  TWF  \\\n",
       "0                  1551.0         42.8              0.0              0.0  0.0   \n",
       "1                  1408.0         46.3              3.0              0.0  0.0   \n",
       "2                  1498.0         49.4              5.0              0.0  0.0   \n",
       "3                  1433.0         39.5              7.0              0.0  0.0   \n",
       "4                  1408.0         40.0              9.0              0.0  0.0   \n",
       "\n",
       "   HDF  PWF  OSF  RNF  \n",
       "0  0.0  0.0  0.0  0.0  \n",
       "1  0.0  0.0  0.0  0.0  \n",
       "2  0.0  0.0  0.0  0.0  \n",
       "3  0.0  0.0  0.0  0.0  \n",
       "4  0.0  0.0  0.0  0.0  "
      ]
     },
     "execution_count": 5,
     "metadata": {},
     "output_type": "execute_result"
    }
   ],
   "source": [
    "# Show the first five record\n",
    "df.head()"
   ]
  },
  {
   "cell_type": "code",
   "execution_count": 6,
   "id": "75a20d0e",
   "metadata": {},
   "outputs": [
    {
     "data": {
      "text/plain": [
       "(10000, 14)"
      ]
     },
     "execution_count": 6,
     "metadata": {},
     "output_type": "execute_result"
    }
   ],
   "source": [
    "# checking shape of dataset\n",
    "df.shape"
   ]
  },
  {
   "cell_type": "markdown",
   "id": "b5c6f6b7",
   "metadata": {},
   "source": [
    "Inferences: We have 10000 rows and 14 columns."
   ]
  },
  {
   "cell_type": "code",
   "execution_count": 7,
   "id": "06291086",
   "metadata": {},
   "outputs": [
    {
     "name": "stdout",
     "output_type": "stream",
     "text": [
      "<class 'pandas.core.frame.DataFrame'>\n",
      "RangeIndex: 10000 entries, 0 to 9999\n",
      "Data columns (total 14 columns):\n",
      " #   Column                   Non-Null Count  Dtype  \n",
      "---  ------                   --------------  -----  \n",
      " 0   UDI                      10000 non-null  float64\n",
      " 1   Product ID               10000 non-null  object \n",
      " 2   Type                     10000 non-null  object \n",
      " 3   Air temperature [K]      10000 non-null  float64\n",
      " 4   Process temperature [K]  10000 non-null  float64\n",
      " 5   Rotational speed [rpm]   10000 non-null  float64\n",
      " 6   Torque [Nm]              10000 non-null  float64\n",
      " 7   Tool wear [min]          10000 non-null  float64\n",
      " 8   Machine failure          10000 non-null  float64\n",
      " 9   TWF                      10000 non-null  float64\n",
      " 10  HDF                      10000 non-null  float64\n",
      " 11  PWF                      10000 non-null  float64\n",
      " 12  OSF                      10000 non-null  float64\n",
      " 13  RNF                      10000 non-null  float64\n",
      "dtypes: float64(12), object(2)\n",
      "memory usage: 1.1+ MB\n"
     ]
    }
   ],
   "source": [
    "df.info()"
   ]
  },
  {
   "cell_type": "code",
   "execution_count": 8,
   "id": "82dd3571",
   "metadata": {},
   "outputs": [
    {
     "data": {
      "text/plain": [
       "UDI                        0\n",
       "Product ID                 0\n",
       "Type                       0\n",
       "Air temperature [K]        0\n",
       "Process temperature [K]    0\n",
       "Rotational speed [rpm]     0\n",
       "Torque [Nm]                0\n",
       "Tool wear [min]            0\n",
       "Machine failure            0\n",
       "TWF                        0\n",
       "HDF                        0\n",
       "PWF                        0\n",
       "OSF                        0\n",
       "RNF                        0\n",
       "dtype: int64"
      ]
     },
     "execution_count": 8,
     "metadata": {},
     "output_type": "execute_result"
    }
   ],
   "source": [
    "# Checking null values\n",
    "df.isnull().sum()"
   ]
  },
  {
   "cell_type": "markdown",
   "id": "82decacb",
   "metadata": {},
   "source": [
    "Infenrence: No NA values present in dataset."
   ]
  },
  {
   "cell_type": "code",
   "execution_count": 9,
   "id": "25aa9137",
   "metadata": {},
   "outputs": [
    {
     "data": {
      "text/plain": [
       "(0, 14)"
      ]
     },
     "execution_count": 9,
     "metadata": {},
     "output_type": "execute_result"
    }
   ],
   "source": [
    "# Checking Duplicates\n",
    "\n",
    "#Count of duplicated rows\n",
    "df[df.duplicated()].shape"
   ]
  },
  {
   "cell_type": "markdown",
   "id": "82c3891f",
   "metadata": {},
   "source": [
    "Inference: No duplicates present in dataset"
   ]
  },
  {
   "cell_type": "code",
   "execution_count": 10,
   "id": "a8804eb5",
   "metadata": {},
   "outputs": [],
   "source": [
    "# Droping unnecessary columns\n",
    "df.drop(['UDI','Product ID'],axis=1,inplace=True)"
   ]
  },
  {
   "cell_type": "code",
   "execution_count": 11,
   "id": "1c3d0954",
   "metadata": {},
   "outputs": [
    {
     "data": {
      "text/html": [
       "<div>\n",
       "<style scoped>\n",
       "    .dataframe tbody tr th:only-of-type {\n",
       "        vertical-align: middle;\n",
       "    }\n",
       "\n",
       "    .dataframe tbody tr th {\n",
       "        vertical-align: top;\n",
       "    }\n",
       "\n",
       "    .dataframe thead th {\n",
       "        text-align: right;\n",
       "    }\n",
       "</style>\n",
       "<table border=\"1\" class=\"dataframe\">\n",
       "  <thead>\n",
       "    <tr style=\"text-align: right;\">\n",
       "      <th></th>\n",
       "      <th>Type</th>\n",
       "      <th>Air temperature [K]</th>\n",
       "      <th>Process temperature [K]</th>\n",
       "      <th>Rotational speed [rpm]</th>\n",
       "      <th>Torque [Nm]</th>\n",
       "      <th>Tool wear [min]</th>\n",
       "      <th>Machine failure</th>\n",
       "      <th>TWF</th>\n",
       "      <th>HDF</th>\n",
       "      <th>PWF</th>\n",
       "      <th>OSF</th>\n",
       "      <th>RNF</th>\n",
       "    </tr>\n",
       "  </thead>\n",
       "  <tbody>\n",
       "    <tr>\n",
       "      <th>0</th>\n",
       "      <td>M</td>\n",
       "      <td>298.1</td>\n",
       "      <td>308.6</td>\n",
       "      <td>1551.0</td>\n",
       "      <td>42.8</td>\n",
       "      <td>0.0</td>\n",
       "      <td>0.0</td>\n",
       "      <td>0.0</td>\n",
       "      <td>0.0</td>\n",
       "      <td>0.0</td>\n",
       "      <td>0.0</td>\n",
       "      <td>0.0</td>\n",
       "    </tr>\n",
       "    <tr>\n",
       "      <th>1</th>\n",
       "      <td>L</td>\n",
       "      <td>298.2</td>\n",
       "      <td>308.7</td>\n",
       "      <td>1408.0</td>\n",
       "      <td>46.3</td>\n",
       "      <td>3.0</td>\n",
       "      <td>0.0</td>\n",
       "      <td>0.0</td>\n",
       "      <td>0.0</td>\n",
       "      <td>0.0</td>\n",
       "      <td>0.0</td>\n",
       "      <td>0.0</td>\n",
       "    </tr>\n",
       "    <tr>\n",
       "      <th>2</th>\n",
       "      <td>L</td>\n",
       "      <td>298.1</td>\n",
       "      <td>308.5</td>\n",
       "      <td>1498.0</td>\n",
       "      <td>49.4</td>\n",
       "      <td>5.0</td>\n",
       "      <td>0.0</td>\n",
       "      <td>0.0</td>\n",
       "      <td>0.0</td>\n",
       "      <td>0.0</td>\n",
       "      <td>0.0</td>\n",
       "      <td>0.0</td>\n",
       "    </tr>\n",
       "    <tr>\n",
       "      <th>3</th>\n",
       "      <td>L</td>\n",
       "      <td>298.2</td>\n",
       "      <td>308.6</td>\n",
       "      <td>1433.0</td>\n",
       "      <td>39.5</td>\n",
       "      <td>7.0</td>\n",
       "      <td>0.0</td>\n",
       "      <td>0.0</td>\n",
       "      <td>0.0</td>\n",
       "      <td>0.0</td>\n",
       "      <td>0.0</td>\n",
       "      <td>0.0</td>\n",
       "    </tr>\n",
       "    <tr>\n",
       "      <th>4</th>\n",
       "      <td>L</td>\n",
       "      <td>298.2</td>\n",
       "      <td>308.7</td>\n",
       "      <td>1408.0</td>\n",
       "      <td>40.0</td>\n",
       "      <td>9.0</td>\n",
       "      <td>0.0</td>\n",
       "      <td>0.0</td>\n",
       "      <td>0.0</td>\n",
       "      <td>0.0</td>\n",
       "      <td>0.0</td>\n",
       "      <td>0.0</td>\n",
       "    </tr>\n",
       "  </tbody>\n",
       "</table>\n",
       "</div>"
      ],
      "text/plain": [
       "  Type  Air temperature [K]  Process temperature [K]  Rotational speed [rpm]  \\\n",
       "0    M                298.1                    308.6                  1551.0   \n",
       "1    L                298.2                    308.7                  1408.0   \n",
       "2    L                298.1                    308.5                  1498.0   \n",
       "3    L                298.2                    308.6                  1433.0   \n",
       "4    L                298.2                    308.7                  1408.0   \n",
       "\n",
       "   Torque [Nm]  Tool wear [min]  Machine failure  TWF  HDF  PWF  OSF  RNF  \n",
       "0         42.8              0.0              0.0  0.0  0.0  0.0  0.0  0.0  \n",
       "1         46.3              3.0              0.0  0.0  0.0  0.0  0.0  0.0  \n",
       "2         49.4              5.0              0.0  0.0  0.0  0.0  0.0  0.0  \n",
       "3         39.5              7.0              0.0  0.0  0.0  0.0  0.0  0.0  \n",
       "4         40.0              9.0              0.0  0.0  0.0  0.0  0.0  0.0  "
      ]
     },
     "execution_count": 11,
     "metadata": {},
     "output_type": "execute_result"
    }
   ],
   "source": [
    "df.head()"
   ]
  },
  {
   "cell_type": "code",
   "execution_count": 12,
   "id": "884958ff",
   "metadata": {},
   "outputs": [
    {
     "data": {
      "text/html": [
       "<div>\n",
       "<style scoped>\n",
       "    .dataframe tbody tr th:only-of-type {\n",
       "        vertical-align: middle;\n",
       "    }\n",
       "\n",
       "    .dataframe tbody tr th {\n",
       "        vertical-align: top;\n",
       "    }\n",
       "\n",
       "    .dataframe thead th {\n",
       "        text-align: right;\n",
       "    }\n",
       "</style>\n",
       "<table border=\"1\" class=\"dataframe\">\n",
       "  <thead>\n",
       "    <tr style=\"text-align: right;\">\n",
       "      <th></th>\n",
       "      <th>Type</th>\n",
       "      <th>air_t</th>\n",
       "      <th>process_t</th>\n",
       "      <th>rotational</th>\n",
       "      <th>torque</th>\n",
       "      <th>tool_w</th>\n",
       "      <th>M_failure</th>\n",
       "      <th>TWF</th>\n",
       "      <th>HDF</th>\n",
       "      <th>PWF</th>\n",
       "      <th>OSF</th>\n",
       "      <th>RNF</th>\n",
       "    </tr>\n",
       "  </thead>\n",
       "  <tbody>\n",
       "    <tr>\n",
       "      <th>0</th>\n",
       "      <td>M</td>\n",
       "      <td>298.1</td>\n",
       "      <td>308.6</td>\n",
       "      <td>1551.0</td>\n",
       "      <td>42.8</td>\n",
       "      <td>0.0</td>\n",
       "      <td>0.0</td>\n",
       "      <td>0.0</td>\n",
       "      <td>0.0</td>\n",
       "      <td>0.0</td>\n",
       "      <td>0.0</td>\n",
       "      <td>0.0</td>\n",
       "    </tr>\n",
       "    <tr>\n",
       "      <th>1</th>\n",
       "      <td>L</td>\n",
       "      <td>298.2</td>\n",
       "      <td>308.7</td>\n",
       "      <td>1408.0</td>\n",
       "      <td>46.3</td>\n",
       "      <td>3.0</td>\n",
       "      <td>0.0</td>\n",
       "      <td>0.0</td>\n",
       "      <td>0.0</td>\n",
       "      <td>0.0</td>\n",
       "      <td>0.0</td>\n",
       "      <td>0.0</td>\n",
       "    </tr>\n",
       "    <tr>\n",
       "      <th>2</th>\n",
       "      <td>L</td>\n",
       "      <td>298.1</td>\n",
       "      <td>308.5</td>\n",
       "      <td>1498.0</td>\n",
       "      <td>49.4</td>\n",
       "      <td>5.0</td>\n",
       "      <td>0.0</td>\n",
       "      <td>0.0</td>\n",
       "      <td>0.0</td>\n",
       "      <td>0.0</td>\n",
       "      <td>0.0</td>\n",
       "      <td>0.0</td>\n",
       "    </tr>\n",
       "    <tr>\n",
       "      <th>3</th>\n",
       "      <td>L</td>\n",
       "      <td>298.2</td>\n",
       "      <td>308.6</td>\n",
       "      <td>1433.0</td>\n",
       "      <td>39.5</td>\n",
       "      <td>7.0</td>\n",
       "      <td>0.0</td>\n",
       "      <td>0.0</td>\n",
       "      <td>0.0</td>\n",
       "      <td>0.0</td>\n",
       "      <td>0.0</td>\n",
       "      <td>0.0</td>\n",
       "    </tr>\n",
       "    <tr>\n",
       "      <th>4</th>\n",
       "      <td>L</td>\n",
       "      <td>298.2</td>\n",
       "      <td>308.7</td>\n",
       "      <td>1408.0</td>\n",
       "      <td>40.0</td>\n",
       "      <td>9.0</td>\n",
       "      <td>0.0</td>\n",
       "      <td>0.0</td>\n",
       "      <td>0.0</td>\n",
       "      <td>0.0</td>\n",
       "      <td>0.0</td>\n",
       "      <td>0.0</td>\n",
       "    </tr>\n",
       "  </tbody>\n",
       "</table>\n",
       "</div>"
      ],
      "text/plain": [
       "  Type  air_t  process_t  rotational  torque  tool_w  M_failure  TWF  HDF  \\\n",
       "0    M  298.1      308.6      1551.0    42.8     0.0        0.0  0.0  0.0   \n",
       "1    L  298.2      308.7      1408.0    46.3     3.0        0.0  0.0  0.0   \n",
       "2    L  298.1      308.5      1498.0    49.4     5.0        0.0  0.0  0.0   \n",
       "3    L  298.2      308.6      1433.0    39.5     7.0        0.0  0.0  0.0   \n",
       "4    L  298.2      308.7      1408.0    40.0     9.0        0.0  0.0  0.0   \n",
       "\n",
       "   PWF  OSF  RNF  \n",
       "0  0.0  0.0  0.0  \n",
       "1  0.0  0.0  0.0  \n",
       "2  0.0  0.0  0.0  \n",
       "3  0.0  0.0  0.0  \n",
       "4  0.0  0.0  0.0  "
      ]
     },
     "execution_count": 12,
     "metadata": {},
     "output_type": "execute_result"
    }
   ],
   "source": [
    "# rename the columns\n",
    "df2 = df.rename({'Air temperature [K]':'air_t','Process temperature [K]':'process_t',\n",
    "                 'Rotational speed [rpm]':'rotational','Torque [Nm]':'torque','Tool wear [min]':'tool_w',\n",
    "                'Machine failure':'M_failure'}, axis=1)\n",
    "df2.head()"
   ]
  },
  {
   "cell_type": "markdown",
   "id": "5215f3c7",
   "metadata": {},
   "source": [
    "## Outliers Removal Using Descriptive Stats\n",
    "A commonly used rule says that a datapoint is an outliers if it is more then 1.5*IQR above the Third Quartile or Below the first Quartile"
   ]
  },
  {
   "cell_type": "code",
   "execution_count": 13,
   "id": "7c5bb25b",
   "metadata": {},
   "outputs": [
    {
     "data": {
      "text/html": [
       "<div>\n",
       "<style scoped>\n",
       "    .dataframe tbody tr th:only-of-type {\n",
       "        vertical-align: middle;\n",
       "    }\n",
       "\n",
       "    .dataframe tbody tr th {\n",
       "        vertical-align: top;\n",
       "    }\n",
       "\n",
       "    .dataframe thead th {\n",
       "        text-align: right;\n",
       "    }\n",
       "</style>\n",
       "<table border=\"1\" class=\"dataframe\">\n",
       "  <thead>\n",
       "    <tr style=\"text-align: right;\">\n",
       "      <th></th>\n",
       "      <th>air_t</th>\n",
       "      <th>process_t</th>\n",
       "      <th>rotational</th>\n",
       "      <th>torque</th>\n",
       "      <th>tool_w</th>\n",
       "      <th>M_failure</th>\n",
       "      <th>TWF</th>\n",
       "      <th>HDF</th>\n",
       "      <th>PWF</th>\n",
       "      <th>OSF</th>\n",
       "      <th>RNF</th>\n",
       "    </tr>\n",
       "  </thead>\n",
       "  <tbody>\n",
       "    <tr>\n",
       "      <th>count</th>\n",
       "      <td>10000.000000</td>\n",
       "      <td>10000.000000</td>\n",
       "      <td>10000.000000</td>\n",
       "      <td>10000.000000</td>\n",
       "      <td>10000.000000</td>\n",
       "      <td>10000.000000</td>\n",
       "      <td>10000.000000</td>\n",
       "      <td>10000.000000</td>\n",
       "      <td>10000.000000</td>\n",
       "      <td>10000.000000</td>\n",
       "      <td>10000.00000</td>\n",
       "    </tr>\n",
       "    <tr>\n",
       "      <th>mean</th>\n",
       "      <td>300.004930</td>\n",
       "      <td>310.005560</td>\n",
       "      <td>1538.776100</td>\n",
       "      <td>39.986910</td>\n",
       "      <td>107.951000</td>\n",
       "      <td>0.033900</td>\n",
       "      <td>0.004600</td>\n",
       "      <td>0.011500</td>\n",
       "      <td>0.009500</td>\n",
       "      <td>0.009800</td>\n",
       "      <td>0.00190</td>\n",
       "    </tr>\n",
       "    <tr>\n",
       "      <th>std</th>\n",
       "      <td>2.000259</td>\n",
       "      <td>1.483734</td>\n",
       "      <td>179.284096</td>\n",
       "      <td>9.968934</td>\n",
       "      <td>63.654147</td>\n",
       "      <td>0.180981</td>\n",
       "      <td>0.067671</td>\n",
       "      <td>0.106625</td>\n",
       "      <td>0.097009</td>\n",
       "      <td>0.098514</td>\n",
       "      <td>0.04355</td>\n",
       "    </tr>\n",
       "    <tr>\n",
       "      <th>min</th>\n",
       "      <td>295.300000</td>\n",
       "      <td>305.700000</td>\n",
       "      <td>1168.000000</td>\n",
       "      <td>3.800000</td>\n",
       "      <td>0.000000</td>\n",
       "      <td>0.000000</td>\n",
       "      <td>0.000000</td>\n",
       "      <td>0.000000</td>\n",
       "      <td>0.000000</td>\n",
       "      <td>0.000000</td>\n",
       "      <td>0.00000</td>\n",
       "    </tr>\n",
       "    <tr>\n",
       "      <th>25%</th>\n",
       "      <td>298.300000</td>\n",
       "      <td>308.800000</td>\n",
       "      <td>1423.000000</td>\n",
       "      <td>33.200000</td>\n",
       "      <td>53.000000</td>\n",
       "      <td>0.000000</td>\n",
       "      <td>0.000000</td>\n",
       "      <td>0.000000</td>\n",
       "      <td>0.000000</td>\n",
       "      <td>0.000000</td>\n",
       "      <td>0.00000</td>\n",
       "    </tr>\n",
       "    <tr>\n",
       "      <th>50%</th>\n",
       "      <td>300.100000</td>\n",
       "      <td>310.100000</td>\n",
       "      <td>1503.000000</td>\n",
       "      <td>40.100000</td>\n",
       "      <td>108.000000</td>\n",
       "      <td>0.000000</td>\n",
       "      <td>0.000000</td>\n",
       "      <td>0.000000</td>\n",
       "      <td>0.000000</td>\n",
       "      <td>0.000000</td>\n",
       "      <td>0.00000</td>\n",
       "    </tr>\n",
       "    <tr>\n",
       "      <th>75%</th>\n",
       "      <td>301.500000</td>\n",
       "      <td>311.100000</td>\n",
       "      <td>1612.000000</td>\n",
       "      <td>46.800000</td>\n",
       "      <td>162.000000</td>\n",
       "      <td>0.000000</td>\n",
       "      <td>0.000000</td>\n",
       "      <td>0.000000</td>\n",
       "      <td>0.000000</td>\n",
       "      <td>0.000000</td>\n",
       "      <td>0.00000</td>\n",
       "    </tr>\n",
       "    <tr>\n",
       "      <th>max</th>\n",
       "      <td>304.500000</td>\n",
       "      <td>313.800000</td>\n",
       "      <td>2886.000000</td>\n",
       "      <td>76.600000</td>\n",
       "      <td>253.000000</td>\n",
       "      <td>1.000000</td>\n",
       "      <td>1.000000</td>\n",
       "      <td>1.000000</td>\n",
       "      <td>1.000000</td>\n",
       "      <td>1.000000</td>\n",
       "      <td>1.00000</td>\n",
       "    </tr>\n",
       "  </tbody>\n",
       "</table>\n",
       "</div>"
      ],
      "text/plain": [
       "              air_t     process_t    rotational        torque        tool_w  \\\n",
       "count  10000.000000  10000.000000  10000.000000  10000.000000  10000.000000   \n",
       "mean     300.004930    310.005560   1538.776100     39.986910    107.951000   \n",
       "std        2.000259      1.483734    179.284096      9.968934     63.654147   \n",
       "min      295.300000    305.700000   1168.000000      3.800000      0.000000   \n",
       "25%      298.300000    308.800000   1423.000000     33.200000     53.000000   \n",
       "50%      300.100000    310.100000   1503.000000     40.100000    108.000000   \n",
       "75%      301.500000    311.100000   1612.000000     46.800000    162.000000   \n",
       "max      304.500000    313.800000   2886.000000     76.600000    253.000000   \n",
       "\n",
       "          M_failure           TWF           HDF           PWF           OSF  \\\n",
       "count  10000.000000  10000.000000  10000.000000  10000.000000  10000.000000   \n",
       "mean       0.033900      0.004600      0.011500      0.009500      0.009800   \n",
       "std        0.180981      0.067671      0.106625      0.097009      0.098514   \n",
       "min        0.000000      0.000000      0.000000      0.000000      0.000000   \n",
       "25%        0.000000      0.000000      0.000000      0.000000      0.000000   \n",
       "50%        0.000000      0.000000      0.000000      0.000000      0.000000   \n",
       "75%        0.000000      0.000000      0.000000      0.000000      0.000000   \n",
       "max        1.000000      1.000000      1.000000      1.000000      1.000000   \n",
       "\n",
       "               RNF  \n",
       "count  10000.00000  \n",
       "mean       0.00190  \n",
       "std        0.04355  \n",
       "min        0.00000  \n",
       "25%        0.00000  \n",
       "50%        0.00000  \n",
       "75%        0.00000  \n",
       "max        1.00000  "
      ]
     },
     "execution_count": 13,
     "metadata": {},
     "output_type": "execute_result"
    }
   ],
   "source": [
    "# Summary\n",
    "df2.describe()"
   ]
  },
  {
   "cell_type": "code",
   "execution_count": 14,
   "id": "ae4c717f",
   "metadata": {},
   "outputs": [
    {
     "data": {
      "text/plain": [
       "<AxesSubplot:xlabel='rotational', ylabel='Density'>"
      ]
     },
     "execution_count": 14,
     "metadata": {},
     "output_type": "execute_result"
    },
    {
     "data": {
      "image/png": "[encoded data removed]",
      "text/plain": [
       "<Figure size 432x288 with 1 Axes>"
      ]
     },
     "metadata": {
      "needs_background": "light"
     },
     "output_type": "display_data"
    }
   ],
   "source": [
    "# distplot for rotational column\n",
    "sns.distplot(df2['rotational'],kde_kws={'color':'r','linewidth':4,'alpha':1})"
   ]
  },
  {
   "cell_type": "markdown",
   "id": "320648b3",
   "metadata": {},
   "source": [
    "Inference: Look at the above distplot the dataset skewed on right side before removing outliers"
   ]
  },
  {
   "cell_type": "markdown",
   "id": "f4090f54",
   "metadata": {},
   "source": [
    "## For rotatinal column\n",
    "Using Box plots & IQR rule to Remove"
   ]
  },
  {
   "cell_type": "code",
   "execution_count": 15,
   "id": "11840710",
   "metadata": {},
   "outputs": [
    {
     "data": {
      "text/plain": [
       "<AxesSubplot:>"
      ]
     },
     "execution_count": 15,
     "metadata": {},
     "output_type": "execute_result"
    },
    {
     "data": {
      "image/png": "[encoded data removed]",
      "text/plain": [
       "<Figure size 432x288 with 1 Axes>"
      ]
     },
     "metadata": {
      "needs_background": "light"
     },
     "output_type": "display_data"
    }
   ],
   "source": [
    "# Boxplot\n",
    "df2.rotational.plot(kind='box')"
   ]
  },
  {
   "cell_type": "markdown",
   "id": "77abb456",
   "metadata": {},
   "source": [
    "Inference: From the Boxplot we can see there are outliers , & Calculated the upper extreme = 1895.5 so any datapoint above 1895.5 are outliers"
   ]
  },
  {
   "cell_type": "code",
   "execution_count": 16,
   "id": "9ac73118",
   "metadata": {},
   "outputs": [
    {
     "data": {
      "text/plain": [
       "(10000, 12)"
      ]
     },
     "execution_count": 16,
     "metadata": {},
     "output_type": "execute_result"
    }
   ],
   "source": [
    "#Original shape Before Outlier removal\n",
    "df2.shape"
   ]
  },
  {
   "cell_type": "code",
   "execution_count": 17,
   "id": "91760914",
   "metadata": {},
   "outputs": [
    {
     "data": {
      "text/plain": [
       "418"
      ]
     },
     "execution_count": 17,
     "metadata": {},
     "output_type": "execute_result"
    }
   ],
   "source": [
    "# rotational More then 1895.5\n",
    "len(df2[df2.rotational>1895.5])"
   ]
  },
  {
   "cell_type": "code",
   "execution_count": 18,
   "id": "24176be6",
   "metadata": {},
   "outputs": [
    {
     "data": {
      "text/plain": [
       "(9582, 12)"
      ]
     },
     "execution_count": 18,
     "metadata": {},
     "output_type": "execute_result"
    }
   ],
   "source": [
    "#Removing Outliers \n",
    "df3 = df2[~(df2.rotational>1895.5)]\n",
    "df3.shape"
   ]
  },
  {
   "cell_type": "code",
   "execution_count": 19,
   "id": "0012900e",
   "metadata": {},
   "outputs": [
    {
     "data": {
      "text/plain": [
       "<AxesSubplot:xlabel='rotational', ylabel='Density'>"
      ]
     },
     "execution_count": 19,
     "metadata": {},
     "output_type": "execute_result"
    },
    {
     "data": {
      "image/png": "[encoded data removed]",
      "text/plain": [
       "<Figure size 432x288 with 1 Axes>"
      ]
     },
     "metadata": {
      "needs_background": "light"
     },
     "output_type": "display_data"
    }
   ],
   "source": [
    "# distplot\n",
    "sns.distplot(df3['rotational'],kde_kws={'color':'r','linewidth':4,'alpha':1})"
   ]
  },
  {
   "cell_type": "markdown",
   "id": "dfff20bc",
   "metadata": {},
   "source": [
    "Inference: Now we have removed the extreme observation look at the above graph its look like normal distribution"
   ]
  },
  {
   "cell_type": "code",
   "execution_count": 20,
   "id": "86c854e1",
   "metadata": {},
   "outputs": [],
   "source": [
    "from scipy.stats import norm"
   ]
  },
  {
   "cell_type": "code",
   "execution_count": 21,
   "id": "4eea6a6c",
   "metadata": {},
   "outputs": [
    {
     "data": {
      "text/plain": [
       "<AxesSubplot:xlabel='rotational'>"
      ]
     },
     "execution_count": 21,
     "metadata": {},
     "output_type": "execute_result"
    },
    {
     "data": {
      "image/png": "[encoded data removed]",
      "text/plain": [
       "<Figure size 432x288 with 1 Axes>"
      ]
     },
     "metadata": {
      "needs_background": "light"
     },
     "output_type": "display_data"
    }
   ],
   "source": [
    "# Normal distplot\n",
    "sns.distplot(df3['rotational'],fit=norm,kde=False)"
   ]
  },
  {
   "cell_type": "markdown",
   "id": "291f2523",
   "metadata": {},
   "source": [
    "Inference: Normal distribution graph for rotational column"
   ]
  },
  {
   "cell_type": "code",
   "execution_count": 22,
   "id": "13e8b498",
   "metadata": {},
   "outputs": [
    {
     "data": {
      "text/plain": [
       "<AxesSubplot:xlabel='torque', ylabel='Density'>"
      ]
     },
     "execution_count": 22,
     "metadata": {},
     "output_type": "execute_result"
    },
    {
     "data": {
      "image/png": "[encoded data removed]",
      "text/plain": [
       "<Figure size 432x288 with 1 Axes>"
      ]
     },
     "metadata": {
      "needs_background": "light"
     },
     "output_type": "display_data"
    }
   ],
   "source": [
    "# distplot plot for torque column\n",
    "sns.distplot(df3['torque'],kde_kws={'color':'g','linewidth':4,'alpha':1})"
   ]
  },
  {
   "cell_type": "markdown",
   "id": "25d10959",
   "metadata": {},
   "source": [
    "Inference: look at graph there is some extreme point present in torque column"
   ]
  },
  {
   "cell_type": "markdown",
   "id": "6a4ffc27",
   "metadata": {},
   "source": [
    "# For torque column\n",
    "Using Box plots & IQR rule to Remove"
   ]
  },
  {
   "cell_type": "code",
   "execution_count": 23,
   "id": "6b74d90c",
   "metadata": {},
   "outputs": [
    {
     "data": {
      "text/plain": [
       "<AxesSubplot:>"
      ]
     },
     "execution_count": 23,
     "metadata": {},
     "output_type": "execute_result"
    },
    {
     "data": {
      "image/png": "[encoded data removed]",
      "text/plain": [
       "<Figure size 432x288 with 1 Axes>"
      ]
     },
     "metadata": {
      "needs_background": "light"
     },
     "output_type": "display_data"
    }
   ],
   "source": [
    "# boxplot\n",
    "df3.torque.plot(kind='box')"
   ]
  },
  {
   "cell_type": "markdown",
   "id": "a1031a70",
   "metadata": {},
   "source": [
    "Inference: From the Boxplot we can see there are outliers , & Calculated the upper extreme = 67.2 so any datapoint above 67.2 are outliers"
   ]
  },
  {
   "cell_type": "code",
   "execution_count": 24,
   "id": "51a06aaa",
   "metadata": {},
   "outputs": [
    {
     "data": {
      "text/plain": [
       "40"
      ]
     },
     "execution_count": 24,
     "metadata": {},
     "output_type": "execute_result"
    }
   ],
   "source": [
    "# torque More then 67.2\n",
    "len(df3[df3.torque>67.2])"
   ]
  },
  {
   "cell_type": "code",
   "execution_count": 25,
   "id": "e6df6deb",
   "metadata": {},
   "outputs": [
    {
     "data": {
      "text/plain": [
       "(9542, 12)"
      ]
     },
     "execution_count": 25,
     "metadata": {},
     "output_type": "execute_result"
    }
   ],
   "source": [
    "df4=df3[~(df3.torque > 67.2)]\n",
    "df4.shape"
   ]
  },
  {
   "cell_type": "code",
   "execution_count": 26,
   "id": "7cc0056a",
   "metadata": {},
   "outputs": [
    {
     "data": {
      "text/plain": [
       "<AxesSubplot:xlabel='torque', ylabel='Density'>"
      ]
     },
     "execution_count": 26,
     "metadata": {},
     "output_type": "execute_result"
    },
    {
     "data": {
      "image/png": "[encoded data removed]",
      "text/plain": [
       "<Figure size 432x288 with 1 Axes>"
      ]
     },
     "metadata": {
      "needs_background": "light"
     },
     "output_type": "display_data"
    }
   ],
   "source": [
    "# distplot\n",
    "sns.distplot(df4['torque'],kde_kws={'color':'g','linewidth':4,'alpha':1})"
   ]
  },
  {
   "cell_type": "markdown",
   "id": "b63640df",
   "metadata": {},
   "source": [
    "Inference: Now we have removed the extreme obs from torque column "
   ]
  },
  {
   "cell_type": "code",
   "execution_count": 27,
   "id": "189a55b2",
   "metadata": {},
   "outputs": [
    {
     "data": {
      "text/plain": [
       "<AxesSubplot:xlabel='tool_w', ylabel='Density'>"
      ]
     },
     "execution_count": 27,
     "metadata": {},
     "output_type": "execute_result"
    },
    {
     "data": {
      "image/png": "[encoded data removed]",
      "text/plain": [
       "<Figure size 432x288 with 1 Axes>"
      ]
     },
     "metadata": {
      "needs_background": "light"
     },
     "output_type": "display_data"
    }
   ],
   "source": [
    "# distplot for tool_w column\n",
    "sns.distplot(df4['tool_w'],kde_kws={'color':'y','linewidth':4,'alpha':1})"
   ]
  },
  {
   "cell_type": "markdown",
   "id": "6dbdf015",
   "metadata": {},
   "source": [
    "Inference: the torque column follow the normal distribution but it has negative kurtosis."
   ]
  },
  {
   "cell_type": "code",
   "execution_count": 28,
   "id": "a35aed29",
   "metadata": {},
   "outputs": [
    {
     "data": {
      "text/plain": [
       "<AxesSubplot:xlabel='tool_w'>"
      ]
     },
     "execution_count": 28,
     "metadata": {},
     "output_type": "execute_result"
    },
    {
     "data": {
      "image/png": "[encoded data removed]",
      "text/plain": [
       "<Figure size 432x288 with 1 Axes>"
      ]
     },
     "metadata": {
      "needs_background": "light"
     },
     "output_type": "display_data"
    }
   ],
   "source": [
    "# normal distplot\n",
    "sns.distplot(df4['tool_w'],fit=norm,kde=False)"
   ]
  },
  {
   "cell_type": "markdown",
   "id": "89a452e0",
   "metadata": {},
   "source": [
    "Inference: normal distribution graph with negative kurtosis"
   ]
  },
  {
   "cell_type": "markdown",
   "id": "6074b698",
   "metadata": {},
   "source": [
    "## For tool_w column\n",
    "Using Box plots & IQR rule to Remove"
   ]
  },
  {
   "cell_type": "code",
   "execution_count": 29,
   "id": "b8bf5bdd",
   "metadata": {},
   "outputs": [
    {
     "data": {
      "text/plain": [
       "<AxesSubplot:>"
      ]
     },
     "execution_count": 29,
     "metadata": {},
     "output_type": "execute_result"
    },
    {
     "data": {
      "image/png": "[encoded data removed]",
      "text/plain": [
       "<Figure size 432x288 with 1 Axes>"
      ]
     },
     "metadata": {
      "needs_background": "light"
     },
     "output_type": "display_data"
    }
   ],
   "source": [
    "# Boxplot\n",
    "df4.tool_w.plot(kind='box')"
   ]
  },
  {
   "cell_type": "markdown",
   "id": "2ce4cc84",
   "metadata": {},
   "source": [
    "Inference: No outliers present in tool_w column"
   ]
  },
  {
   "cell_type": "code",
   "execution_count": 30,
   "id": "847239d3",
   "metadata": {},
   "outputs": [
    {
     "data": {
      "text/plain": [
       "<AxesSubplot:>"
      ]
     },
     "execution_count": 30,
     "metadata": {},
     "output_type": "execute_result"
    },
    {
     "data": {
      "image/png": "[encoded data removed]",
      "text/plain": [
       "<Figure size 720x432 with 1 Axes>"
      ]
     },
     "metadata": {
      "needs_background": "light"
     },
     "output_type": "display_data"
    }
   ],
   "source": [
    "#Bar plot\n",
    "plt.figure(figsize=(10,6))\n",
    "df4['Type'].value_counts().plot.bar(color='r')"
   ]
  },
  {
   "cell_type": "markdown",
   "id": "e8f348d3",
   "metadata": {},
   "source": [
    "Inference: As mention in the data description 50% Low and 30% Medium and 20% High as product quality variants."
   ]
  },
  {
   "cell_type": "markdown",
   "id": "35d8eb91",
   "metadata": {},
   "source": [
    "# Final Dataset After EDA"
   ]
  },
  {
   "cell_type": "code",
   "execution_count": 31,
   "id": "14a1a745",
   "metadata": {},
   "outputs": [
    {
     "data": {
      "text/html": [
       "<div>\n",
       "<style scoped>\n",
       "    .dataframe tbody tr th:only-of-type {\n",
       "        vertical-align: middle;\n",
       "    }\n",
       "\n",
       "    .dataframe tbody tr th {\n",
       "        vertical-align: top;\n",
       "    }\n",
       "\n",
       "    .dataframe thead th {\n",
       "        text-align: right;\n",
       "    }\n",
       "</style>\n",
       "<table border=\"1\" class=\"dataframe\">\n",
       "  <thead>\n",
       "    <tr style=\"text-align: right;\">\n",
       "      <th></th>\n",
       "      <th>Type</th>\n",
       "      <th>air_t</th>\n",
       "      <th>process_t</th>\n",
       "      <th>rotational</th>\n",
       "      <th>torque</th>\n",
       "      <th>tool_w</th>\n",
       "      <th>M_failure</th>\n",
       "      <th>TWF</th>\n",
       "      <th>HDF</th>\n",
       "      <th>PWF</th>\n",
       "      <th>OSF</th>\n",
       "      <th>RNF</th>\n",
       "    </tr>\n",
       "  </thead>\n",
       "  <tbody>\n",
       "    <tr>\n",
       "      <th>0</th>\n",
       "      <td>M</td>\n",
       "      <td>298.1</td>\n",
       "      <td>308.6</td>\n",
       "      <td>1551.0</td>\n",
       "      <td>42.8</td>\n",
       "      <td>0.0</td>\n",
       "      <td>0.0</td>\n",
       "      <td>0.0</td>\n",
       "      <td>0.0</td>\n",
       "      <td>0.0</td>\n",
       "      <td>0.0</td>\n",
       "      <td>0.0</td>\n",
       "    </tr>\n",
       "    <tr>\n",
       "      <th>1</th>\n",
       "      <td>L</td>\n",
       "      <td>298.2</td>\n",
       "      <td>308.7</td>\n",
       "      <td>1408.0</td>\n",
       "      <td>46.3</td>\n",
       "      <td>3.0</td>\n",
       "      <td>0.0</td>\n",
       "      <td>0.0</td>\n",
       "      <td>0.0</td>\n",
       "      <td>0.0</td>\n",
       "      <td>0.0</td>\n",
       "      <td>0.0</td>\n",
       "    </tr>\n",
       "    <tr>\n",
       "      <th>2</th>\n",
       "      <td>L</td>\n",
       "      <td>298.1</td>\n",
       "      <td>308.5</td>\n",
       "      <td>1498.0</td>\n",
       "      <td>49.4</td>\n",
       "      <td>5.0</td>\n",
       "      <td>0.0</td>\n",
       "      <td>0.0</td>\n",
       "      <td>0.0</td>\n",
       "      <td>0.0</td>\n",
       "      <td>0.0</td>\n",
       "      <td>0.0</td>\n",
       "    </tr>\n",
       "  </tbody>\n",
       "</table>\n",
       "</div>"
      ],
      "text/plain": [
       "  Type  air_t  process_t  rotational  torque  tool_w  M_failure  TWF  HDF  \\\n",
       "0    M  298.1      308.6      1551.0    42.8     0.0        0.0  0.0  0.0   \n",
       "1    L  298.2      308.7      1408.0    46.3     3.0        0.0  0.0  0.0   \n",
       "2    L  298.1      308.5      1498.0    49.4     5.0        0.0  0.0  0.0   \n",
       "\n",
       "   PWF  OSF  RNF  \n",
       "0  0.0  0.0  0.0  \n",
       "1  0.0  0.0  0.0  \n",
       "2  0.0  0.0  0.0  "
      ]
     },
     "execution_count": 31,
     "metadata": {},
     "output_type": "execute_result"
    }
   ],
   "source": [
    "df4.head(3)"
   ]
  },
  {
   "cell_type": "code",
   "execution_count": 32,
   "id": "d7656663",
   "metadata": {},
   "outputs": [],
   "source": [
    "# let's encode the Type to numerical values\n",
    "\n",
    "df4['Type'] = df4['Type'].replace(('M','L','H'),(2,1,3))"
   ]
  },
  {
   "cell_type": "code",
   "execution_count": 33,
   "id": "69844086",
   "metadata": {},
   "outputs": [
    {
     "data": {
      "text/html": [
       "<div>\n",
       "<style scoped>\n",
       "    .dataframe tbody tr th:only-of-type {\n",
       "        vertical-align: middle;\n",
       "    }\n",
       "\n",
       "    .dataframe tbody tr th {\n",
       "        vertical-align: top;\n",
       "    }\n",
       "\n",
       "    .dataframe thead th {\n",
       "        text-align: right;\n",
       "    }\n",
       "</style>\n",
       "<table border=\"1\" class=\"dataframe\">\n",
       "  <thead>\n",
       "    <tr style=\"text-align: right;\">\n",
       "      <th></th>\n",
       "      <th>Type</th>\n",
       "      <th>air_t</th>\n",
       "      <th>process_t</th>\n",
       "      <th>rotational</th>\n",
       "      <th>torque</th>\n",
       "      <th>tool_w</th>\n",
       "      <th>M_failure</th>\n",
       "      <th>TWF</th>\n",
       "      <th>HDF</th>\n",
       "      <th>PWF</th>\n",
       "      <th>OSF</th>\n",
       "      <th>RNF</th>\n",
       "    </tr>\n",
       "  </thead>\n",
       "  <tbody>\n",
       "    <tr>\n",
       "      <th>0</th>\n",
       "      <td>2</td>\n",
       "      <td>298.1</td>\n",
       "      <td>308.6</td>\n",
       "      <td>1551.0</td>\n",
       "      <td>42.8</td>\n",
       "      <td>0.0</td>\n",
       "      <td>0.0</td>\n",
       "      <td>0.0</td>\n",
       "      <td>0.0</td>\n",
       "      <td>0.0</td>\n",
       "      <td>0.0</td>\n",
       "      <td>0.0</td>\n",
       "    </tr>\n",
       "    <tr>\n",
       "      <th>1</th>\n",
       "      <td>1</td>\n",
       "      <td>298.2</td>\n",
       "      <td>308.7</td>\n",
       "      <td>1408.0</td>\n",
       "      <td>46.3</td>\n",
       "      <td>3.0</td>\n",
       "      <td>0.0</td>\n",
       "      <td>0.0</td>\n",
       "      <td>0.0</td>\n",
       "      <td>0.0</td>\n",
       "      <td>0.0</td>\n",
       "      <td>0.0</td>\n",
       "    </tr>\n",
       "    <tr>\n",
       "      <th>2</th>\n",
       "      <td>1</td>\n",
       "      <td>298.1</td>\n",
       "      <td>308.5</td>\n",
       "      <td>1498.0</td>\n",
       "      <td>49.4</td>\n",
       "      <td>5.0</td>\n",
       "      <td>0.0</td>\n",
       "      <td>0.0</td>\n",
       "      <td>0.0</td>\n",
       "      <td>0.0</td>\n",
       "      <td>0.0</td>\n",
       "      <td>0.0</td>\n",
       "    </tr>\n",
       "    <tr>\n",
       "      <th>3</th>\n",
       "      <td>1</td>\n",
       "      <td>298.2</td>\n",
       "      <td>308.6</td>\n",
       "      <td>1433.0</td>\n",
       "      <td>39.5</td>\n",
       "      <td>7.0</td>\n",
       "      <td>0.0</td>\n",
       "      <td>0.0</td>\n",
       "      <td>0.0</td>\n",
       "      <td>0.0</td>\n",
       "      <td>0.0</td>\n",
       "      <td>0.0</td>\n",
       "    </tr>\n",
       "    <tr>\n",
       "      <th>4</th>\n",
       "      <td>1</td>\n",
       "      <td>298.2</td>\n",
       "      <td>308.7</td>\n",
       "      <td>1408.0</td>\n",
       "      <td>40.0</td>\n",
       "      <td>9.0</td>\n",
       "      <td>0.0</td>\n",
       "      <td>0.0</td>\n",
       "      <td>0.0</td>\n",
       "      <td>0.0</td>\n",
       "      <td>0.0</td>\n",
       "      <td>0.0</td>\n",
       "    </tr>\n",
       "  </tbody>\n",
       "</table>\n",
       "</div>"
      ],
      "text/plain": [
       "   Type  air_t  process_t  rotational  torque  tool_w  M_failure  TWF  HDF  \\\n",
       "0     2  298.1      308.6      1551.0    42.8     0.0        0.0  0.0  0.0   \n",
       "1     1  298.2      308.7      1408.0    46.3     3.0        0.0  0.0  0.0   \n",
       "2     1  298.1      308.5      1498.0    49.4     5.0        0.0  0.0  0.0   \n",
       "3     1  298.2      308.6      1433.0    39.5     7.0        0.0  0.0  0.0   \n",
       "4     1  298.2      308.7      1408.0    40.0     9.0        0.0  0.0  0.0   \n",
       "\n",
       "   PWF  OSF  RNF  \n",
       "0  0.0  0.0  0.0  \n",
       "1  0.0  0.0  0.0  \n",
       "2  0.0  0.0  0.0  \n",
       "3  0.0  0.0  0.0  \n",
       "4  0.0  0.0  0.0  "
      ]
     },
     "execution_count": 33,
     "metadata": {},
     "output_type": "execute_result"
    }
   ],
   "source": [
    "df4.head()"
   ]
  },
  {
   "cell_type": "markdown",
   "id": "31f2ef0c",
   "metadata": {},
   "source": [
    "\n",
    "___Class variable counts___"
   ]
  },
  {
   "cell_type": "code",
   "execution_count": 34,
   "id": "670fbc1f",
   "metadata": {},
   "outputs": [
    {
     "name": "stdout",
     "output_type": "stream",
     "text": [
      "Percentage of machine failure\n",
      "0.0    97.191364\n",
      "1.0     2.808636\n",
      "Name: M_failure, dtype: float64\n"
     ]
    },
    {
     "data": {
      "text/plain": [
       "Text(0.5, 1.02, 'Count of TARGET Variable (Machine failed Y/N)')"
      ]
     },
     "execution_count": 34,
     "metadata": {},
     "output_type": "execute_result"
    },
    {
     "data": {
      "image/png": "[encoded data removed]",
      "text/plain": [
       "<Figure size 720x216 with 1 Axes>"
      ]
     },
     "metadata": {
      "needs_background": "light"
     },
     "output_type": "display_data"
    }
   ],
   "source": [
    "target_val_count = df4.M_failure.value_counts()\n",
    "#print(target_val_count)\n",
    "\n",
    "# % of machine failure\n",
    "\n",
    "print('Percentage of machine failure')\n",
    "print(100*target_val_count/len(df4['M_failure']))\n",
    "\n",
    "# plot target/response variable count\n",
    "\n",
    "df4['M_failure'].value_counts().plot(kind='barh', figsize=(10, 3))\n",
    "plt.xlabel(\"Count\", labelpad=14)\n",
    "plt.ylabel(\"Machine failed\", labelpad=14)\n",
    "plt.title(\"Count of TARGET Variable (Machine failed Y/N)\", y=1.02)"
   ]
  },
  {
   "cell_type": "code",
   "execution_count": null,
   "id": "0c66a0d7",
   "metadata": {},
   "outputs": [],
   "source": []
  },
  {
   "cell_type": "markdown",
   "id": "4db1b5be",
   "metadata": {},
   "source": [
    "#### Feature Scaling- standardization"
   ]
  },
  {
   "cell_type": "code",
   "execution_count": 35,
   "id": "23285703",
   "metadata": {},
   "outputs": [],
   "source": [
    "# Spliting X & Y Variable\n",
    "\n",
    "x = df4.drop(['M_failure', 'TWF', 'HDF', 'PWF', 'OSF', 'RNF'], axis = 1)\n",
    "y = df4['M_failure']"
   ]
  },
  {
   "cell_type": "code",
   "execution_count": 36,
   "id": "725192cc",
   "metadata": {},
   "outputs": [],
   "source": [
    "from sklearn.preprocessing import MinMaxScaler"
   ]
  },
  {
   "cell_type": "code",
   "execution_count": 37,
   "id": "aeb345ad",
   "metadata": {},
   "outputs": [
    {
     "data": {
      "text/html": [
       "<div>\n",
       "<style scoped>\n",
       "    .dataframe tbody tr th:only-of-type {\n",
       "        vertical-align: middle;\n",
       "    }\n",
       "\n",
       "    .dataframe tbody tr th {\n",
       "        vertical-align: top;\n",
       "    }\n",
       "\n",
       "    .dataframe thead th {\n",
       "        text-align: right;\n",
       "    }\n",
       "</style>\n",
       "<table border=\"1\" class=\"dataframe\">\n",
       "  <thead>\n",
       "    <tr style=\"text-align: right;\">\n",
       "      <th></th>\n",
       "      <th>Type</th>\n",
       "      <th>air_t</th>\n",
       "      <th>process_t</th>\n",
       "      <th>rotational</th>\n",
       "      <th>torque</th>\n",
       "      <th>tool_w</th>\n",
       "    </tr>\n",
       "  </thead>\n",
       "  <tbody>\n",
       "    <tr>\n",
       "      <th>0</th>\n",
       "      <td>0.5</td>\n",
       "      <td>0.304348</td>\n",
       "      <td>0.358025</td>\n",
       "      <td>0.526823</td>\n",
       "      <td>0.481953</td>\n",
       "      <td>0.000000</td>\n",
       "    </tr>\n",
       "    <tr>\n",
       "      <th>1</th>\n",
       "      <td>0.0</td>\n",
       "      <td>0.315217</td>\n",
       "      <td>0.370370</td>\n",
       "      <td>0.330124</td>\n",
       "      <td>0.556263</td>\n",
       "      <td>0.011858</td>\n",
       "    </tr>\n",
       "    <tr>\n",
       "      <th>2</th>\n",
       "      <td>0.0</td>\n",
       "      <td>0.304348</td>\n",
       "      <td>0.345679</td>\n",
       "      <td>0.453920</td>\n",
       "      <td>0.622081</td>\n",
       "      <td>0.019763</td>\n",
       "    </tr>\n",
       "    <tr>\n",
       "      <th>3</th>\n",
       "      <td>0.0</td>\n",
       "      <td>0.315217</td>\n",
       "      <td>0.358025</td>\n",
       "      <td>0.364512</td>\n",
       "      <td>0.411890</td>\n",
       "      <td>0.027668</td>\n",
       "    </tr>\n",
       "    <tr>\n",
       "      <th>4</th>\n",
       "      <td>0.0</td>\n",
       "      <td>0.315217</td>\n",
       "      <td>0.370370</td>\n",
       "      <td>0.330124</td>\n",
       "      <td>0.422505</td>\n",
       "      <td>0.035573</td>\n",
       "    </tr>\n",
       "    <tr>\n",
       "      <th>5</th>\n",
       "      <td>0.5</td>\n",
       "      <td>0.304348</td>\n",
       "      <td>0.358025</td>\n",
       "      <td>0.353508</td>\n",
       "      <td>0.462845</td>\n",
       "      <td>0.043478</td>\n",
       "    </tr>\n",
       "    <tr>\n",
       "      <th>6</th>\n",
       "      <td>0.0</td>\n",
       "      <td>0.304348</td>\n",
       "      <td>0.358025</td>\n",
       "      <td>0.536451</td>\n",
       "      <td>0.473461</td>\n",
       "      <td>0.055336</td>\n",
       "    </tr>\n",
       "    <tr>\n",
       "      <th>7</th>\n",
       "      <td>0.0</td>\n",
       "      <td>0.304348</td>\n",
       "      <td>0.358025</td>\n",
       "      <td>0.493810</td>\n",
       "      <td>0.426752</td>\n",
       "      <td>0.063241</td>\n",
       "    </tr>\n",
       "    <tr>\n",
       "      <th>8</th>\n",
       "      <td>0.5</td>\n",
       "      <td>0.326087</td>\n",
       "      <td>0.370370</td>\n",
       "      <td>0.686382</td>\n",
       "      <td>0.180467</td>\n",
       "      <td>0.071146</td>\n",
       "    </tr>\n",
       "    <tr>\n",
       "      <th>9</th>\n",
       "      <td>0.5</td>\n",
       "      <td>0.347826</td>\n",
       "      <td>0.407407</td>\n",
       "      <td>0.788171</td>\n",
       "      <td>0.167728</td>\n",
       "      <td>0.083004</td>\n",
       "    </tr>\n",
       "  </tbody>\n",
       "</table>\n",
       "</div>"
      ],
      "text/plain": [
       "   Type     air_t  process_t  rotational    torque    tool_w\n",
       "0   0.5  0.304348   0.358025    0.526823  0.481953  0.000000\n",
       "1   0.0  0.315217   0.370370    0.330124  0.556263  0.011858\n",
       "2   0.0  0.304348   0.345679    0.453920  0.622081  0.019763\n",
       "3   0.0  0.315217   0.358025    0.364512  0.411890  0.027668\n",
       "4   0.0  0.315217   0.370370    0.330124  0.422505  0.035573\n",
       "5   0.5  0.304348   0.358025    0.353508  0.462845  0.043478\n",
       "6   0.0  0.304348   0.358025    0.536451  0.473461  0.055336\n",
       "7   0.0  0.304348   0.358025    0.493810  0.426752  0.063241\n",
       "8   0.5  0.326087   0.370370    0.686382  0.180467  0.071146\n",
       "9   0.5  0.347826   0.407407    0.788171  0.167728  0.083004"
      ]
     },
     "execution_count": 37,
     "metadata": {},
     "output_type": "execute_result"
    }
   ],
   "source": [
    "scaler = MinMaxScaler()\n",
    "scaler.fit(x)\n",
    "scaled_data = scaler.transform(x)\n",
    "\n",
    "\n",
    "x = pd.DataFrame(data = scaled_data, columns = x.columns, index = x.index)\n",
    "x.head(10)"
   ]
  },
  {
   "cell_type": "markdown",
   "id": "f20323e4",
   "metadata": {},
   "source": [
    "# Feature Engineering"
   ]
  },
  {
   "cell_type": "markdown",
   "id": "bbca9013",
   "metadata": {},
   "source": [
    "### Univariate Feature Selection"
   ]
  },
  {
   "cell_type": "code",
   "execution_count": 38,
   "id": "02bc73e5",
   "metadata": {},
   "outputs": [],
   "source": [
    "from sklearn.feature_selection import SelectKBest\n",
    "from sklearn.feature_selection import chi2"
   ]
  },
  {
   "cell_type": "code",
   "execution_count": 39,
   "id": "a354fd6a",
   "metadata": {},
   "outputs": [
    {
     "data": {
      "text/html": [
       "<div>\n",
       "<style scoped>\n",
       "    .dataframe tbody tr th:only-of-type {\n",
       "        vertical-align: middle;\n",
       "    }\n",
       "\n",
       "    .dataframe tbody tr th {\n",
       "        vertical-align: top;\n",
       "    }\n",
       "\n",
       "    .dataframe thead th {\n",
       "        text-align: right;\n",
       "    }\n",
       "</style>\n",
       "<table border=\"1\" class=\"dataframe\">\n",
       "  <thead>\n",
       "    <tr style=\"text-align: right;\">\n",
       "      <th></th>\n",
       "      <th>variables</th>\n",
       "      <th>Score</th>\n",
       "    </tr>\n",
       "  </thead>\n",
       "  <tbody>\n",
       "    <tr>\n",
       "      <th>4</th>\n",
       "      <td>torque</td>\n",
       "      <td>39.013152</td>\n",
       "    </tr>\n",
       "    <tr>\n",
       "      <th>5</th>\n",
       "      <td>tool_w</td>\n",
       "      <td>19.810993</td>\n",
       "    </tr>\n",
       "    <tr>\n",
       "      <th>3</th>\n",
       "      <td>rotational</td>\n",
       "      <td>18.960673</td>\n",
       "    </tr>\n",
       "    <tr>\n",
       "      <th>1</th>\n",
       "      <td>air_t</td>\n",
       "      <td>7.440851</td>\n",
       "    </tr>\n",
       "    <tr>\n",
       "      <th>0</th>\n",
       "      <td>Type</td>\n",
       "      <td>5.649607</td>\n",
       "    </tr>\n",
       "    <tr>\n",
       "      <th>2</th>\n",
       "      <td>process_t</td>\n",
       "      <td>0.958917</td>\n",
       "    </tr>\n",
       "  </tbody>\n",
       "</table>\n",
       "</div>"
      ],
      "text/plain": [
       "    variables      Score\n",
       "4      torque  39.013152\n",
       "5      tool_w  19.810993\n",
       "3  rotational  18.960673\n",
       "1       air_t   7.440851\n",
       "0        Type   5.649607\n",
       "2   process_t   0.958917"
      ]
     },
     "execution_count": 39,
     "metadata": {},
     "output_type": "execute_result"
    }
   ],
   "source": [
    "# apply SelectKBest class to extract top 10 best features\n",
    "\n",
    "bestfeatures = SelectKBest(score_func=chi2, k=6)\n",
    "fit = bestfeatures.fit(x, y)\n",
    "\n",
    "featureScores_univ = pd.DataFrame({'variables':x.columns, 'Score':fit.scores_})\n",
    "featureScores_univ.sort_values(by=['Score'], ascending=False)"
   ]
  },
  {
   "cell_type": "markdown",
   "id": "6ae87c26",
   "metadata": {},
   "source": [
    "High chi2 value suggest, feature is useful in predicting the class variable"
   ]
  },
  {
   "cell_type": "code",
   "execution_count": null,
   "id": "2908c2cd",
   "metadata": {},
   "outputs": [],
   "source": []
  },
  {
   "cell_type": "markdown",
   "id": "5688f902",
   "metadata": {},
   "source": [
    "### Feature Importance By Decision Tree"
   ]
  },
  {
   "cell_type": "code",
   "execution_count": 43,
   "id": "735534b1",
   "metadata": {},
   "outputs": [],
   "source": [
    "from sklearn.ensemble import ExtraTreesClassifier\n",
    "#from sklearn.ensemble import DecisionTreeClassifier\n",
    "import matplotlib.pyplot as plt"
   ]
  },
  {
   "cell_type": "code",
   "execution_count": 44,
   "id": "78641cf9",
   "metadata": {
    "scrolled": true
   },
   "outputs": [
    {
     "name": "stdout",
     "output_type": "stream",
     "text": [
      "[0.03706451 0.17006663 0.14245626 0.1931404  0.24418038 0.21309181]\n"
     ]
    },
    {
     "data": {
      "image/png": "[encoded data removed]",
      "text/plain": [
       "<Figure size 432x288 with 1 Axes>"
      ]
     },
     "metadata": {
      "needs_background": "light"
     },
     "output_type": "display_data"
    }
   ],
   "source": [
    "# use inbuilt class feature_importances of tree based classifiers\n",
    "model = ExtraTreesClassifier()\n",
    "model.fit(x, y)\n",
    "print(model.feature_importances_)\n",
    "\n",
    "# plot graph of feature importances for better visualization\n",
    "feat_importances = pd.Series(model.feature_importances_, index=x.columns)\n",
    "feat_importances.nlargest(11).plot(kind='barh', color='r')\n",
    "plt.show()"
   ]
  },
  {
   "cell_type": "code",
   "execution_count": 46,
   "id": "65f46c0e",
   "metadata": {},
   "outputs": [
    {
     "data": {
      "text/html": [
       "<div>\n",
       "<style scoped>\n",
       "    .dataframe tbody tr th:only-of-type {\n",
       "        vertical-align: middle;\n",
       "    }\n",
       "\n",
       "    .dataframe tbody tr th {\n",
       "        vertical-align: top;\n",
       "    }\n",
       "\n",
       "    .dataframe thead th {\n",
       "        text-align: right;\n",
       "    }\n",
       "</style>\n",
       "<table border=\"1\" class=\"dataframe\">\n",
       "  <thead>\n",
       "    <tr style=\"text-align: right;\">\n",
       "      <th></th>\n",
       "      <th>variables</th>\n",
       "      <th>Score</th>\n",
       "    </tr>\n",
       "  </thead>\n",
       "  <tbody>\n",
       "    <tr>\n",
       "      <th>4</th>\n",
       "      <td>torque</td>\n",
       "      <td>0.244180</td>\n",
       "    </tr>\n",
       "    <tr>\n",
       "      <th>5</th>\n",
       "      <td>tool_w</td>\n",
       "      <td>0.213092</td>\n",
       "    </tr>\n",
       "    <tr>\n",
       "      <th>3</th>\n",
       "      <td>rotational</td>\n",
       "      <td>0.193140</td>\n",
       "    </tr>\n",
       "    <tr>\n",
       "      <th>1</th>\n",
       "      <td>air_t</td>\n",
       "      <td>0.170067</td>\n",
       "    </tr>\n",
       "    <tr>\n",
       "      <th>2</th>\n",
       "      <td>process_t</td>\n",
       "      <td>0.142456</td>\n",
       "    </tr>\n",
       "    <tr>\n",
       "      <th>0</th>\n",
       "      <td>Type</td>\n",
       "      <td>0.037065</td>\n",
       "    </tr>\n",
       "  </tbody>\n",
       "</table>\n",
       "</div>"
      ],
      "text/plain": [
       "    variables     Score\n",
       "4      torque  0.244180\n",
       "5      tool_w  0.213092\n",
       "3  rotational  0.193140\n",
       "1       air_t  0.170067\n",
       "2   process_t  0.142456\n",
       "0        Type  0.037065"
      ]
     },
     "execution_count": 46,
     "metadata": {},
     "output_type": "execute_result"
    }
   ],
   "source": [
    "featureScores_dt = pd.DataFrame({'variables':x.columns, 'Score':model.feature_importances_})\n",
    "featureScores_dt.sort_values(by=['Score'], ascending=False)"
   ]
  },
  {
   "cell_type": "markdown",
   "id": "d27e873e",
   "metadata": {},
   "source": [
    "### Recursive Feature Elimination"
   ]
  },
  {
   "cell_type": "code",
   "execution_count": 47,
   "id": "cca3a3c4",
   "metadata": {},
   "outputs": [],
   "source": [
    "from sklearn.feature_selection import RFE\n",
    "from sklearn.linear_model import LogisticRegression"
   ]
  },
  {
   "cell_type": "code",
   "execution_count": 48,
   "id": "56c58ac7",
   "metadata": {},
   "outputs": [
    {
     "data": {
      "text/plain": [
       "4"
      ]
     },
     "execution_count": 48,
     "metadata": {},
     "output_type": "execute_result"
    }
   ],
   "source": [
    "# feature extraction with RFE\n",
    "\n",
    "model = LogisticRegression(max_iter=2500)\n",
    "rfe = RFE(model, n_features_to_select=4)\n",
    "fit = rfe.fit(x, y)\n",
    "\n",
    "fit.n_features_"
   ]
  },
  {
   "cell_type": "code",
   "execution_count": 49,
   "id": "0edf4d24",
   "metadata": {},
   "outputs": [
    {
     "data": {
      "text/plain": [
       "array([False,  True,  True, False,  True,  True])"
      ]
     },
     "execution_count": 49,
     "metadata": {},
     "output_type": "execute_result"
    }
   ],
   "source": [
    "fit.support_"
   ]
  },
  {
   "cell_type": "code",
   "execution_count": 50,
   "id": "1fe19143",
   "metadata": {},
   "outputs": [
    {
     "data": {
      "text/plain": [
       "array([3, 1, 1, 2, 1, 1])"
      ]
     },
     "execution_count": 50,
     "metadata": {},
     "output_type": "execute_result"
    }
   ],
   "source": [
    "# Feature Ranking\n",
    "fit.ranking_"
   ]
  },
  {
   "cell_type": "code",
   "execution_count": 52,
   "id": "5531e1c8",
   "metadata": {},
   "outputs": [
    {
     "data": {
      "text/html": [
       "<div>\n",
       "<style scoped>\n",
       "    .dataframe tbody tr th:only-of-type {\n",
       "        vertical-align: middle;\n",
       "    }\n",
       "\n",
       "    .dataframe tbody tr th {\n",
       "        vertical-align: top;\n",
       "    }\n",
       "\n",
       "    .dataframe thead th {\n",
       "        text-align: right;\n",
       "    }\n",
       "</style>\n",
       "<table border=\"1\" class=\"dataframe\">\n",
       "  <thead>\n",
       "    <tr style=\"text-align: right;\">\n",
       "      <th></th>\n",
       "      <th>variables</th>\n",
       "      <th>Rankings</th>\n",
       "    </tr>\n",
       "  </thead>\n",
       "  <tbody>\n",
       "    <tr>\n",
       "      <th>1</th>\n",
       "      <td>air_t</td>\n",
       "      <td>1</td>\n",
       "    </tr>\n",
       "    <tr>\n",
       "      <th>2</th>\n",
       "      <td>process_t</td>\n",
       "      <td>1</td>\n",
       "    </tr>\n",
       "    <tr>\n",
       "      <th>4</th>\n",
       "      <td>torque</td>\n",
       "      <td>1</td>\n",
       "    </tr>\n",
       "    <tr>\n",
       "      <th>5</th>\n",
       "      <td>tool_w</td>\n",
       "      <td>1</td>\n",
       "    </tr>\n",
       "    <tr>\n",
       "      <th>3</th>\n",
       "      <td>rotational</td>\n",
       "      <td>2</td>\n",
       "    </tr>\n",
       "    <tr>\n",
       "      <th>0</th>\n",
       "      <td>Type</td>\n",
       "      <td>3</td>\n",
       "    </tr>\n",
       "  </tbody>\n",
       "</table>\n",
       "</div>"
      ],
      "text/plain": [
       "    variables  Rankings\n",
       "1       air_t         1\n",
       "2   process_t         1\n",
       "4      torque         1\n",
       "5      tool_w         1\n",
       "3  rotational         2\n",
       "0        Type         3"
      ]
     },
     "execution_count": 52,
     "metadata": {},
     "output_type": "execute_result"
    }
   ],
   "source": [
    "featureScores_rfe = pd.DataFrame({'variables':x.columns, 'Rankings':fit.ranking_})\n",
    "featureScores_rfe.sort_values(by=['Rankings'])"
   ]
  },
  {
   "cell_type": "markdown",
   "id": "66d66ce6",
   "metadata": {},
   "source": [
    "___By considering all 3 feature selection techniques 'product type' looks less useful in predicting the \n",
    "target variable among all predictors.\n",
    "Out of 3 techniques in univarient and decision tree 'Type' is at bottom of prediction score by decision tree \n",
    "and RFE, and of 2nd least score in univarient___"
   ]
  },
  {
   "cell_type": "code",
   "execution_count": 53,
   "id": "b6b3c91f",
   "metadata": {},
   "outputs": [
    {
     "name": "stdout",
     "output_type": "stream",
     "text": [
      "<class 'pandas.core.frame.DataFrame'>\n",
      "Int64Index: 9542 entries, 0 to 9999\n",
      "Data columns (total 5 columns):\n",
      " #   Column      Non-Null Count  Dtype  \n",
      "---  ------      --------------  -----  \n",
      " 0   air_t       9542 non-null   float64\n",
      " 1   process_t   9542 non-null   float64\n",
      " 2   rotational  9542 non-null   float64\n",
      " 3   torque      9542 non-null   float64\n",
      " 4   tool_w      9542 non-null   float64\n",
      "dtypes: float64(5)\n",
      "memory usage: 447.3 KB\n"
     ]
    }
   ],
   "source": [
    "x.drop(['Type'], axis=1, inplace=True)\n",
    "x.info()"
   ]
  },
  {
   "cell_type": "code",
   "execution_count": null,
   "id": "0a06543d",
   "metadata": {},
   "outputs": [],
   "source": []
  },
  {
   "cell_type": "markdown",
   "id": "732d7644",
   "metadata": {},
   "source": [
    "## Stratified sampling for class balance on the train and test dataset\n",
    " Create a stratified train/test split. \n",
    " Test set will be 30% of the data.\n",
    " Class distribution will be equal for train test and original data"
   ]
  },
  {
   "cell_type": "code",
   "execution_count": 61,
   "id": "b7a94130",
   "metadata": {},
   "outputs": [],
   "source": [
    "from sklearn.model_selection import train_test_split"
   ]
  },
  {
   "cell_type": "code",
   "execution_count": 63,
   "id": "b4cd74b6",
   "metadata": {},
   "outputs": [],
   "source": [
    "#train, test = train_test_split(data, test_size = 0.3, stratify=data.buy)\n",
    "x_train, x_test, y_train, y_test = train_test_split(x, y, test_size = 0.3, stratify=y)"
   ]
  },
  {
   "cell_type": "code",
   "execution_count": 163,
   "id": "c858c9ab",
   "metadata": {},
   "outputs": [
    {
     "name": "stdout",
     "output_type": "stream",
     "text": [
      "0.0    6491\n",
      "1.0     188\n",
      "Name: M_failure, dtype: int64\n",
      "Percentage of machine failure\n",
      "0.0    97.185207\n",
      "1.0     2.814793\n",
      "Name: M_failure, dtype: float64\n"
     ]
    },
    {
     "data": {
      "text/plain": [
       "Text(0.5, 1.02, 'Class distribution in train data')"
      ]
     },
     "execution_count": 163,
     "metadata": {},
     "output_type": "execute_result"
    },
    {
     "data": {
      "image/png": "[encoded data removed]",
      "text/plain": [
       "<Figure size 720x216 with 1 Axes>"
      ]
     },
     "metadata": {
      "needs_background": "light"
     },
     "output_type": "display_data"
    }
   ],
   "source": [
    "target_val_count = y_train.value_counts()\n",
    "print(target_val_count)\n",
    "\n",
    "# % of machine failure\n",
    "\n",
    "print('Percentage of machine failure')\n",
    "print(100*target_val_count/len(y_train))\n",
    "# plot target/response variable count\n",
    "\n",
    "y_train.value_counts().plot(kind='barh', figsize=(10, 3))\n",
    "plt.xlabel(\"Count\", labelpad=14)\n",
    "plt.ylabel(\"Machine failed\", labelpad=14)\n",
    "plt.title(\"Class distribution in train data\", y=1.02)"
   ]
  },
  {
   "cell_type": "code",
   "execution_count": 162,
   "id": "c9c12594",
   "metadata": {},
   "outputs": [
    {
     "name": "stdout",
     "output_type": "stream",
     "text": [
      "0.0    2783\n",
      "1.0      80\n",
      "Name: M_failure, dtype: int64\n",
      "Percentage of machine failure\n",
      "0.0    97.205728\n",
      "1.0     2.794272\n",
      "Name: M_failure, dtype: float64\n"
     ]
    },
    {
     "data": {
      "text/plain": [
       "Text(0.5, 1.02, 'Class distribution in test data')"
      ]
     },
     "execution_count": 162,
     "metadata": {},
     "output_type": "execute_result"
    },
    {
     "data": {
      "image/png": "[encoded data removed]",
      "text/plain": [
       "<Figure size 720x216 with 1 Axes>"
      ]
     },
     "metadata": {
      "needs_background": "light"
     },
     "output_type": "display_data"
    }
   ],
   "source": [
    "target_val_count = y_test.value_counts()\n",
    "print(target_val_count)\n",
    "\n",
    "# % of machine failure\n",
    "\n",
    "print('Percentage of machine failure')\n",
    "print(100*target_val_count/len(y_test))\n",
    "# plot target/response variable count\n",
    "\n",
    "y_test.value_counts().plot(kind='barh', figsize=(10, 3))\n",
    "plt.xlabel(\"Count\", labelpad=14)\n",
    "plt.ylabel(\"Machine failed\", labelpad=14)\n",
    "plt.title(\"Class distribution in test data\", y=1.02)"
   ]
  },
  {
   "cell_type": "markdown",
   "id": "036473ef",
   "metadata": {},
   "source": [
    "# Different Model Building For Classification"
   ]
  },
  {
   "cell_type": "markdown",
   "id": "d5e978fb",
   "metadata": {},
   "source": [
    "1. Random Forest Classification\n",
    "2. AdaBoost Classification\n",
    "3. Logistic Regression\n",
    "4. K Nearest Neighbour\n",
    "5. Support Vector Machine (SVM) Classifier\n",
    "6. Stacking Ensemble for Classification"
   ]
  },
  {
   "cell_type": "markdown",
   "id": "13ed11f6",
   "metadata": {},
   "source": [
    "#### 1. Random Forest Classification"
   ]
  },
  {
   "cell_type": "code",
   "execution_count": 76,
   "id": "c922aaea",
   "metadata": {},
   "outputs": [],
   "source": [
    "from sklearn.metrics import precision_score, recall_score, f1_score\n",
    "from sklearn.metrics import classification_report"
   ]
  },
  {
   "cell_type": "code",
   "execution_count": 55,
   "id": "2ba82ac3",
   "metadata": {},
   "outputs": [],
   "source": [
    "from sklearn.model_selection import KFold\n",
    "from sklearn.model_selection import cross_val_score\n",
    "from sklearn.ensemble import RandomForestClassifier"
   ]
  },
  {
   "cell_type": "code",
   "execution_count": 56,
   "id": "7f9efeed",
   "metadata": {},
   "outputs": [
    {
     "name": "stdout",
     "output_type": "stream",
     "text": [
      "Scores for each fold are: [0.99057592 0.98743455 0.98008386 0.99056604 0.99056604 0.99266247\n",
      " 0.98637317 0.98113208 0.98322851 0.98637317]\n",
      "Average score: 0.99\n"
     ]
    }
   ],
   "source": [
    "num_trees = 100\n",
    "# max features: sqrt(n_features)\n",
    "max_features = 3\n",
    "\n",
    "kfold = KFold(n_splits=10, shuffle=True, random_state=42)\n",
    "model_RFC = RandomForestClassifier(n_estimators=num_trees, max_features=max_features)\n",
    "results_RFC = cross_val_score(model_RFC, x, y, cv=kfold, scoring=\"accuracy\")\n",
    "\n",
    "print(f'Scores for each fold are: {results_RFC}')\n",
    "print(f'Average score: {\"{:.2f}\".format(results_RFC.mean())}')"
   ]
  },
  {
   "cell_type": "code",
   "execution_count": 153,
   "id": "3fd2cc6d",
   "metadata": {},
   "outputs": [],
   "source": [
    "# model fit and validate\n",
    "\n",
    "model_RFC.fit(x_train, y_train)\n",
    "preds = model_RFC.predict(x_test)"
   ]
  },
  {
   "cell_type": "code",
   "execution_count": 154,
   "id": "703c3539",
   "metadata": {},
   "outputs": [
    {
     "name": "stdout",
     "output_type": "stream",
     "text": [
      "Classification report for Random Forest model\n",
      "F1 is:  0.7692307692307692\n",
      "Precision is:  0.873015873015873\n",
      "Recall is:  0.6875\n"
     ]
    }
   ],
   "source": [
    "print('Classification report for Random Forest model')\n",
    "f1_rfc = f1_score(y_test, preds)\n",
    "precision_rfc = precision_score(y_test, preds)\n",
    "recall_rfc = recall_score(y_test, preds)\n",
    "\n",
    "print('F1 is: ', f1_rfc)\n",
    "print('Precision is: ', precision_rfc)\n",
    "print('Recall is: ', recall_rfc)"
   ]
  },
  {
   "cell_type": "code",
   "execution_count": null,
   "id": "5293ab5c",
   "metadata": {},
   "outputs": [],
   "source": []
  },
  {
   "cell_type": "markdown",
   "id": "9ef6b6ff",
   "metadata": {},
   "source": [
    "#### 2. AdaBoost Classification"
   ]
  },
  {
   "cell_type": "code",
   "execution_count": 80,
   "id": "a7bc8dc1",
   "metadata": {},
   "outputs": [],
   "source": [
    "from sklearn.ensemble import AdaBoostClassifier"
   ]
  },
  {
   "cell_type": "code",
   "execution_count": 81,
   "id": "34cecb43",
   "metadata": {},
   "outputs": [
    {
     "name": "stdout",
     "output_type": "stream",
     "text": [
      "0.9731718748284983\n"
     ]
    }
   ],
   "source": [
    "num_trees = 100\n",
    "seed = 7\n",
    "\n",
    "kfold = KFold(n_splits=10, shuffle=True, random_state=seed)\n",
    "model_AdB = AdaBoostClassifier(n_estimators=num_trees, random_state=seed)\n",
    "results_AdB = cross_val_score(model_AdB, x, y, cv=kfold, scoring=\"accuracy\")\n",
    "\n",
    "print(results_AdB.mean())"
   ]
  },
  {
   "cell_type": "code",
   "execution_count": 150,
   "id": "470636b6",
   "metadata": {},
   "outputs": [],
   "source": [
    "# model fit and validate\n",
    "\n",
    "model_AdB.fit(x_train, y_train)\n",
    "preds = model_AdB.predict(x_test)"
   ]
  },
  {
   "cell_type": "code",
   "execution_count": 152,
   "id": "3833a2ae",
   "metadata": {},
   "outputs": [
    {
     "name": "stdout",
     "output_type": "stream",
     "text": [
      "F1 is:  0.42962962962962964\n",
      "Precision is:  0.5272727272727272\n",
      "Recall is:  0.3625\n"
     ]
    }
   ],
   "source": [
    "f1_adb = f1_score(y_test, preds)\n",
    "precision_adb = precision_score(y_test, preds)\n",
    "recall_adb = recall_score(y_test, preds)\n",
    "\n",
    "print('F1 is: ', f1_adb)\n",
    "print('Precision is: ', precision_adb)\n",
    "print('Recall is: ', recall_adb)"
   ]
  },
  {
   "cell_type": "markdown",
   "id": "98061a30",
   "metadata": {},
   "source": [
    "#### 3. Logistic Regression"
   ]
  },
  {
   "cell_type": "code",
   "execution_count": 87,
   "id": "53aad26f",
   "metadata": {},
   "outputs": [
    {
     "name": "stdout",
     "output_type": "stream",
     "text": [
      "Scores for each fold are: [0.97433211 0.96909377 0.97589099 0.97379455 0.97222222]\n",
      "Average score: 0.97\n"
     ]
    }
   ],
   "source": [
    "\n",
    "kfold = KFold(n_splits=5, shuffle=True, random_state=42)\n",
    "model_LR = LogisticRegression(random_state= 42)\n",
    "results_LR = cross_val_score(model_LR, x, y, cv= kfold, scoring=\"accuracy\")\n",
    "\n",
    "print(f'Scores for each fold are: {results_LR}')\n",
    "print(f'Average score: {\"{:.2f}\".format(results_LR.mean())}')"
   ]
  },
  {
   "cell_type": "code",
   "execution_count": 148,
   "id": "d0e28095",
   "metadata": {},
   "outputs": [],
   "source": [
    "# model fit and validate\n",
    "\n",
    "model_LR.fit(x_train, y_train)\n",
    "preds = model_LR.predict(x_test)"
   ]
  },
  {
   "cell_type": "code",
   "execution_count": 149,
   "id": "3d3e2ce4",
   "metadata": {},
   "outputs": [
    {
     "name": "stdout",
     "output_type": "stream",
     "text": [
      "Classification report for Logistic Regression model\n",
      "F1 is:  0.07228915662650602\n",
      "Precision is:  1.0\n",
      "Recall is:  0.0375\n"
     ]
    }
   ],
   "source": [
    "print('Classification report for Logistic Regression model')\n",
    "f1_LR = f1_score(y_test, preds)\n",
    "precision_LR = precision_score(y_test, preds)\n",
    "recall_LR = recall_score(y_test, preds)\n",
    "\n",
    "print('F1 is: ', f1_LR)\n",
    "print('Precision is: ', precision_LR)\n",
    "print('Recall is: ', recall_LR)"
   ]
  },
  {
   "cell_type": "markdown",
   "id": "71fbfbfa",
   "metadata": {},
   "source": [
    "#### 4. K Nearest Neighbour"
   ]
  },
  {
   "cell_type": "code",
   "execution_count": 90,
   "id": "a149bb2e",
   "metadata": {},
   "outputs": [],
   "source": [
    "from sklearn.neighbors import KNeighborsClassifier\n",
    "from sklearn.model_selection import GridSearchCV"
   ]
  },
  {
   "cell_type": "code",
   "execution_count": 91,
   "id": "d799bb90",
   "metadata": {},
   "outputs": [
    {
     "data": {
      "text/plain": [
       "GridSearchCV(estimator=KNeighborsClassifier(),\n",
       "             param_grid={'n_neighbors': array([ 1,  2,  3,  4,  5,  6,  7,  8,  9, 10, 11, 12, 13, 14, 15, 16, 17,\n",
       "       18, 19, 20, 21, 22, 23, 24, 25, 26, 27, 28, 29, 30, 31, 32, 33, 34,\n",
       "       35, 36, 37, 38, 39, 40, 41, 42, 43, 44, 45, 46, 47, 48, 49])})"
      ]
     },
     "execution_count": 91,
     "metadata": {},
     "output_type": "execute_result"
    }
   ],
   "source": [
    "# Grid Search for Algorithm Tuning\n",
    "\n",
    "n_neighbors = np.array(range(1,50))\n",
    "param_grid = dict(n_neighbors=n_neighbors)\n",
    "\n",
    "model = KNeighborsClassifier()\n",
    "grid = GridSearchCV(estimator=model, param_grid=param_grid)\n",
    "grid.fit(x, y)"
   ]
  },
  {
   "cell_type": "code",
   "execution_count": 92,
   "id": "e25247a0",
   "metadata": {},
   "outputs": [
    {
     "name": "stdout",
     "output_type": "stream",
     "text": [
      "0.9719136321056718\n",
      "{'n_neighbors': 48}\n"
     ]
    }
   ],
   "source": [
    "print(grid.best_score_)\n",
    "print(grid.best_params_)"
   ]
  },
  {
   "cell_type": "code",
   "execution_count": 93,
   "id": "7bf8e696",
   "metadata": {},
   "outputs": [
    {
     "data": {
      "image/png": "[encoded data removed]",
      "text/plain": [
       "<Figure size 432x288 with 1 Axes>"
      ]
     },
     "metadata": {
      "needs_background": "light"
     },
     "output_type": "display_data"
    }
   ],
   "source": [
    "# Visualizing the CV results\n",
    "\n",
    "k_range = range(1, 51)\n",
    "k_scores = []\n",
    "\n",
    "# Use iteration to caclulator different K in models, \n",
    "# then return the average accuracy based on the cross validation\n",
    "\n",
    "for k in k_range:\n",
    "    knn = KNeighborsClassifier(n_neighbors=k)\n",
    "    scores = cross_val_score(knn, x, y, cv=5)\n",
    "    k_scores.append(scores.mean())\n",
    "    \n",
    "# Plot to see clearly\n",
    "\n",
    "plt.plot(k_range, k_scores)\n",
    "plt.xlabel('Value of K for KNN')\n",
    "plt.ylabel('Cross-Validated Accuracy')\n",
    "plt.show()"
   ]
  },
  {
   "cell_type": "code",
   "execution_count": 94,
   "id": "dc6d3bca",
   "metadata": {},
   "outputs": [
    {
     "name": "stdout",
     "output_type": "stream",
     "text": [
      "0.972333084045232\n"
     ]
    }
   ],
   "source": [
    "# Model with tuned parameters, balanced data\n",
    "\n",
    "model_KNN = KNeighborsClassifier(n_neighbors=48)\n",
    "results_KNN = cross_val_score(model_KNN, x, y, cv=kfold, scoring=\"accuracy\")\n",
    "\n",
    "print(results_KNN.mean())"
   ]
  },
  {
   "cell_type": "code",
   "execution_count": 146,
   "id": "f427a90a",
   "metadata": {},
   "outputs": [],
   "source": [
    "model_KNN.fit(x_train, y_train)\n",
    "preds = model_KNN.predict(x_test)"
   ]
  },
  {
   "cell_type": "code",
   "execution_count": 147,
   "id": "267600f9",
   "metadata": {},
   "outputs": [
    {
     "name": "stdout",
     "output_type": "stream",
     "text": [
      "Classification report for K Nearest Neighbour model\n",
      "F1 is:  0.0\n",
      "Precision is:  0.0\n",
      "Recall is:  0.0\n"
     ]
    }
   ],
   "source": [
    "print('Classification report for K Nearest Neighbour model')\n",
    "f1_KNN = f1_score(y_test, preds)\n",
    "precision_KNN = precision_score(y_test, preds)\n",
    "recall_KNN = recall_score(y_test, preds)\n",
    "\n",
    "print('F1 is: ', f1_KNN)\n",
    "print('Precision is: ', precision_KNN)\n",
    "print('Recall is: ', recall_KNN)"
   ]
  },
  {
   "cell_type": "markdown",
   "id": "1555c83c",
   "metadata": {},
   "source": [
    "#### 5. Support Vector Machine (SVM) Classifier"
   ]
  },
  {
   "cell_type": "code",
   "execution_count": 118,
   "id": "853f0b2b",
   "metadata": {},
   "outputs": [],
   "source": [
    "from sklearn import svm"
   ]
  },
  {
   "cell_type": "code",
   "execution_count": 119,
   "id": "a0d67db9",
   "metadata": {
    "scrolled": true
   },
   "outputs": [
    {
     "data": {
      "text/plain": [
       "GridSearchCV(cv=10, estimator=SVC(),\n",
       "             param_grid=[{'C': [15], 'gamma': [50], 'kernel': ['rbf']}])"
      ]
     },
     "execution_count": 119,
     "metadata": {},
     "output_type": "execute_result"
    }
   ],
   "source": [
    "# Grid Search/hyper parameter Tuning\n",
    "\n",
    "model = svm.SVC()\n",
    "param_grid = [{'kernel':['rbf'],'gamma':[50,5,10,0.5],'C':[15,14,13,12,10,0.1,0.001] }]\n",
    "gsv = GridSearchCV(model, param_grid, cv=10)\n",
    "gsv.fit(x_train, y_train)"
   ]
  },
  {
   "cell_type": "code",
   "execution_count": 120,
   "id": "130757a4",
   "metadata": {},
   "outputs": [
    {
     "data": {
      "text/plain": [
       "({'C': 15, 'gamma': 50, 'kernel': 'rbf'}, 0.9724501521694243)"
      ]
     },
     "execution_count": 120,
     "metadata": {},
     "output_type": "execute_result"
    }
   ],
   "source": [
    "gsv.best_params_ , gsv.best_score_ "
   ]
  },
  {
   "cell_type": "code",
   "execution_count": 121,
   "id": "304ef1c0",
   "metadata": {},
   "outputs": [
    {
     "name": "stdout",
     "output_type": "stream",
     "text": [
      "0.9788308252933365\n"
     ]
    }
   ],
   "source": [
    "# Model with parameters from grid search\n",
    "\n",
    "kfold = KFold(n_splits=10, shuffle=True, random_state=42)\n",
    "model_SVM = svm.SVC(C= 15, gamma = 50)\n",
    "results_SVM = cross_val_score(model_SVM, x, y, cv=kfold, scoring=\"accuracy\")\n",
    "\n",
    "print(results_SVM.mean())"
   ]
  },
  {
   "cell_type": "code",
   "execution_count": 155,
   "id": "af9e4194",
   "metadata": {},
   "outputs": [],
   "source": [
    "model_SVM.fit(x_train, y_train)\n",
    "preds = model_SVM.predict(x_test)"
   ]
  },
  {
   "cell_type": "code",
   "execution_count": 156,
   "id": "92979f6f",
   "metadata": {},
   "outputs": [
    {
     "name": "stdout",
     "output_type": "stream",
     "text": [
      "Classification report for SVM model\n",
      "F1 is:  0.6293706293706294\n",
      "Precision is:  0.7142857142857143\n",
      "Recall is:  0.5625\n"
     ]
    }
   ],
   "source": [
    "print('Classification report for SVM model')\n",
    "f1_SVM = f1_score(y_test, preds)\n",
    "precision_SVM = precision_score(y_test, preds)\n",
    "recall_SVM = recall_score(y_test, preds)\n",
    "\n",
    "print('F1 is: ', f1_SVM)\n",
    "print('Precision is: ', precision_SVM)\n",
    "print('Recall is: ', recall_SVM)"
   ]
  },
  {
   "cell_type": "code",
   "execution_count": null,
   "id": "b100b35f",
   "metadata": {},
   "outputs": [],
   "source": []
  },
  {
   "cell_type": "markdown",
   "id": "68ba5ba5",
   "metadata": {},
   "source": [
    "#### 6. Stacking Ensemble for Classification"
   ]
  },
  {
   "cell_type": "code",
   "execution_count": 113,
   "id": "cf5982da",
   "metadata": {},
   "outputs": [],
   "source": [
    "from sklearn.ensemble import VotingClassifier\n",
    "from sklearn.tree import DecisionTreeClassifier"
   ]
  },
  {
   "cell_type": "code",
   "execution_count": 114,
   "id": "7aa26cdd",
   "metadata": {},
   "outputs": [
    {
     "name": "stdout",
     "output_type": "stream",
     "text": [
      "0.9784112087984458\n"
     ]
    }
   ],
   "source": [
    "kfold = KFold(n_splits=10, shuffle=True, random_state=7)\n",
    "\n",
    "# create the sub models\n",
    "estimators = []\n",
    "model1 = LogisticRegression(max_iter=500)\n",
    "estimators.append(('logistic', model1))\n",
    "model2 = DecisionTreeClassifier()\n",
    "estimators.append(('cart', model2))\n",
    "model3 = KNeighborsClassifier(n_neighbors=17)\n",
    "estimators.append(('knn', model3))\n",
    "\n",
    "model4 = RandomForestClassifier(n_estimators=100, max_features=5)\n",
    "estimators.append(('rfc', model4))\n",
    "model5 = AdaBoostClassifier(n_estimators=100, random_state=7)\n",
    "estimators.append(('adb', model5))\n",
    "\n",
    "# create the ensemble model\n",
    "ensemble_stack = VotingClassifier(estimators)\n",
    "results_stcking = cross_val_score(ensemble_stack, x, y, cv=kfold, scoring=\"accuracy\")\n",
    "\n",
    "print(results_stcking.mean())\n",
    "#print(results_stcking.itemset())\n"
   ]
  },
  {
   "cell_type": "code",
   "execution_count": 142,
   "id": "9e1f9b8d",
   "metadata": {},
   "outputs": [],
   "source": [
    "ensemble_stack.fit(x_train, y_train)\n",
    "preds = ensemble_stack.predict(x_test)"
   ]
  },
  {
   "cell_type": "code",
   "execution_count": 143,
   "id": "d8f6e469",
   "metadata": {},
   "outputs": [
    {
     "name": "stdout",
     "output_type": "stream",
     "text": [
      "Classification report for Stacking Ensemble model\n",
      "F1 is:  0.39999999999999997\n",
      "Precision is:  0.84\n",
      "Recall is:  0.2625\n"
     ]
    }
   ],
   "source": [
    "print('Classification report for Stacking Ensemble model')\n",
    "f1_stacking = f1_score(y_test, preds)\n",
    "precision_stacking = precision_score(y_test, preds)\n",
    "recall_stacking = recall_score(y_test, preds)\n",
    "\n",
    "print('F1 is: ', f1_stacking)\n",
    "print('Precision is: ', precision_stacking)\n",
    "print('Recall is: ', recall_stacking)"
   ]
  },
  {
   "cell_type": "markdown",
   "id": "5d2bab27",
   "metadata": {},
   "source": [
    "## Models Evaluation"
   ]
  },
  {
   "cell_type": "code",
   "execution_count": 157,
   "id": "1e8432c0",
   "metadata": {},
   "outputs": [
    {
     "data": {
      "text/html": [
       "<div>\n",
       "<style scoped>\n",
       "    .dataframe tbody tr th:only-of-type {\n",
       "        vertical-align: middle;\n",
       "    }\n",
       "\n",
       "    .dataframe tbody tr th {\n",
       "        vertical-align: top;\n",
       "    }\n",
       "\n",
       "    .dataframe thead th {\n",
       "        text-align: right;\n",
       "    }\n",
       "</style>\n",
       "<table border=\"1\" class=\"dataframe\">\n",
       "  <thead>\n",
       "    <tr style=\"text-align: right;\">\n",
       "      <th></th>\n",
       "      <th>Models</th>\n",
       "      <th>Accuracy</th>\n",
       "      <th>F1_Score</th>\n",
       "      <th>Precision</th>\n",
       "      <th>Recall</th>\n",
       "    </tr>\n",
       "  </thead>\n",
       "  <tbody>\n",
       "    <tr>\n",
       "      <th>0</th>\n",
       "      <td>Random Forest</td>\n",
       "      <td>0.986900</td>\n",
       "      <td>0.769231</td>\n",
       "      <td>0.873016</td>\n",
       "      <td>0.6875</td>\n",
       "    </tr>\n",
       "    <tr>\n",
       "      <th>4</th>\n",
       "      <td>SVM</td>\n",
       "      <td>0.978831</td>\n",
       "      <td>0.629371</td>\n",
       "      <td>0.714286</td>\n",
       "      <td>0.5625</td>\n",
       "    </tr>\n",
       "    <tr>\n",
       "      <th>5</th>\n",
       "      <td>Stacking ensemble</td>\n",
       "      <td>0.978411</td>\n",
       "      <td>0.400000</td>\n",
       "      <td>0.840000</td>\n",
       "      <td>0.2625</td>\n",
       "    </tr>\n",
       "    <tr>\n",
       "      <th>1</th>\n",
       "      <td>Ada Boost</td>\n",
       "      <td>0.973172</td>\n",
       "      <td>0.429630</td>\n",
       "      <td>0.527273</td>\n",
       "      <td>0.3625</td>\n",
       "    </tr>\n",
       "    <tr>\n",
       "      <th>2</th>\n",
       "      <td>Logistic Regression</td>\n",
       "      <td>0.973067</td>\n",
       "      <td>0.072289</td>\n",
       "      <td>1.000000</td>\n",
       "      <td>0.0375</td>\n",
       "    </tr>\n",
       "    <tr>\n",
       "      <th>3</th>\n",
       "      <td>KNN</td>\n",
       "      <td>0.972333</td>\n",
       "      <td>0.000000</td>\n",
       "      <td>0.000000</td>\n",
       "      <td>0.0000</td>\n",
       "    </tr>\n",
       "  </tbody>\n",
       "</table>\n",
       "</div>"
      ],
      "text/plain": [
       "                Models  Accuracy  F1_Score  Precision  Recall\n",
       "0        Random Forest  0.986900  0.769231   0.873016  0.6875\n",
       "4                  SVM  0.978831  0.629371   0.714286  0.5625\n",
       "5    Stacking ensemble  0.978411  0.400000   0.840000  0.2625\n",
       "1            Ada Boost  0.973172  0.429630   0.527273  0.3625\n",
       "2  Logistic Regression  0.973067  0.072289   1.000000  0.0375\n",
       "3                  KNN  0.972333  0.000000   0.000000  0.0000"
      ]
     },
     "execution_count": 157,
     "metadata": {},
     "output_type": "execute_result"
    }
   ],
   "source": [
    "# Storing results in a data frame\n",
    "\n",
    "d1 = {'Models':['Random Forest','Ada Boost','Logistic Regression','KNN','SVM',\n",
    "                'Stacking ensemble'], \n",
    "      'Accuracy':[results_RFC.mean(), results_AdB.mean(), results_LR.mean(), results_KNN.mean(), results_SVM.mean(), \n",
    "             results_stcking.mean()],\n",
    "     'F1_Score':[f1_rfc, f1_adb, f1_LR, f1_KNN, f1_SVM, f1_stacking],\n",
    "     'Precision':[precision_rfc, precision_adb, precision_LR, precision_KNN, precision_SVM, precision_stacking],\n",
    "     'Recall':[recall_rfc, recall_adb, recall_LR, recall_KNN, recall_SVM, recall_stacking]}\n",
    "results_df = pd.DataFrame(d1)\n",
    "results_df.sort_values(by=['Accuracy'], ascending=False)"
   ]
  },
  {
   "cell_type": "markdown",
   "id": "dc9ec084",
   "metadata": {},
   "source": [
    "__Random forest model is giving us the highest accuracy and high precision, recall hence high f1 score among all the models\n",
    "built. validated by k-fold cross validation, which has reduced bias, \n",
    "also validated by balanced sampling of test and train dataset, we will deploy the Random forest model__"
   ]
  },
  {
   "cell_type": "markdown",
   "id": "1e8f1364",
   "metadata": {},
   "source": [
    "### finalized model, Random Forest "
   ]
  },
  {
   "cell_type": "code",
   "execution_count": 158,
   "id": "8d210443",
   "metadata": {},
   "outputs": [],
   "source": [
    "import joblib"
   ]
  },
  {
   "cell_type": "code",
   "execution_count": 159,
   "id": "33613481",
   "metadata": {},
   "outputs": [
    {
     "data": {
      "text/html": [
       "<div>\n",
       "<style scoped>\n",
       "    .dataframe tbody tr th:only-of-type {\n",
       "        vertical-align: middle;\n",
       "    }\n",
       "\n",
       "    .dataframe tbody tr th {\n",
       "        vertical-align: top;\n",
       "    }\n",
       "\n",
       "    .dataframe thead th {\n",
       "        text-align: right;\n",
       "    }\n",
       "</style>\n",
       "<table border=\"1\" class=\"dataframe\">\n",
       "  <thead>\n",
       "    <tr style=\"text-align: right;\">\n",
       "      <th></th>\n",
       "      <th>air_t</th>\n",
       "      <th>process_t</th>\n",
       "      <th>rotational</th>\n",
       "      <th>torque</th>\n",
       "      <th>tool_w</th>\n",
       "    </tr>\n",
       "  </thead>\n",
       "  <tbody>\n",
       "    <tr>\n",
       "      <th>0</th>\n",
       "      <td>298.1</td>\n",
       "      <td>308.6</td>\n",
       "      <td>1551.0</td>\n",
       "      <td>42.8</td>\n",
       "      <td>0.0</td>\n",
       "    </tr>\n",
       "    <tr>\n",
       "      <th>1</th>\n",
       "      <td>298.2</td>\n",
       "      <td>308.7</td>\n",
       "      <td>1408.0</td>\n",
       "      <td>46.3</td>\n",
       "      <td>3.0</td>\n",
       "    </tr>\n",
       "    <tr>\n",
       "      <th>2</th>\n",
       "      <td>298.1</td>\n",
       "      <td>308.5</td>\n",
       "      <td>1498.0</td>\n",
       "      <td>49.4</td>\n",
       "      <td>5.0</td>\n",
       "    </tr>\n",
       "    <tr>\n",
       "      <th>3</th>\n",
       "      <td>298.2</td>\n",
       "      <td>308.6</td>\n",
       "      <td>1433.0</td>\n",
       "      <td>39.5</td>\n",
       "      <td>7.0</td>\n",
       "    </tr>\n",
       "    <tr>\n",
       "      <th>4</th>\n",
       "      <td>298.2</td>\n",
       "      <td>308.7</td>\n",
       "      <td>1408.0</td>\n",
       "      <td>40.0</td>\n",
       "      <td>9.0</td>\n",
       "    </tr>\n",
       "  </tbody>\n",
       "</table>\n",
       "</div>"
      ],
      "text/plain": [
       "   air_t  process_t  rotational  torque  tool_w\n",
       "0  298.1      308.6      1551.0    42.8     0.0\n",
       "1  298.2      308.7      1408.0    46.3     3.0\n",
       "2  298.1      308.5      1498.0    49.4     5.0\n",
       "3  298.2      308.6      1433.0    39.5     7.0\n",
       "4  298.2      308.7      1408.0    40.0     9.0"
      ]
     },
     "execution_count": 159,
     "metadata": {},
     "output_type": "execute_result"
    }
   ],
   "source": [
    "x1 = df4.drop(['Type', 'M_failure', 'TWF', 'HDF', 'PWF', 'OSF', 'RNF'], axis = 1)\n",
    "x1.head()"
   ]
  },
  {
   "cell_type": "markdown",
   "id": "cee5a9b3",
   "metadata": {},
   "source": [
    "### Save the model for deployment"
   ]
  },
  {
   "cell_type": "code",
   "execution_count": 160,
   "id": "3ea741e7",
   "metadata": {},
   "outputs": [
    {
     "data": {
      "text/plain": [
       "['scaler_model.sav']"
      ]
     },
     "execution_count": 160,
     "metadata": {},
     "output_type": "execute_result"
    }
   ],
   "source": [
    "# Save the Scaler\n",
    "scaler = MinMaxScaler()\n",
    "scaler.fit(x1)\n",
    "\n",
    "filename = 'scaler_model.sav'\n",
    "joblib.dump(scaler, filename)"
   ]
  },
  {
   "cell_type": "code",
   "execution_count": 161,
   "id": "e74c97d2",
   "metadata": {},
   "outputs": [
    {
     "data": {
      "text/plain": [
       "['finalized_model.sav']"
      ]
     },
     "execution_count": 161,
     "metadata": {},
     "output_type": "execute_result"
    }
   ],
   "source": [
    "# Save the model\n",
    "filename = 'finalized_model.sav'\n",
    "joblib.dump(model_RFC, filename)"
   ]
  }
 ],
 "metadata": {
  "kernelspec": {
   "display_name": "Python 3 (ipykernel)",
   "language": "python",
   "name": "python3"
  },
  "language_info": {
   "codemirror_mode": {
    "name": "ipython",
    "version": 3
   },
   "file_extension": ".py",
   "mimetype": "text/x-python",
   "name": "python",
   "nbconvert_exporter": "python",
   "pygments_lexer": "ipython3",
   "version": "3.9.7"
  }
 },
 "nbformat": 4,
 "nbformat_minor": 5
}
